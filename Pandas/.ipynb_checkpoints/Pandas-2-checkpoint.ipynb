{
 "cells": [
  {
   "cell_type": "code",
   "execution_count": 1,
   "id": "c8cb3834",
   "metadata": {},
   "outputs": [],
   "source": [
    "import pandas as pd\n",
    "import numpy as np"
   ]
  },
  {
   "cell_type": "code",
   "execution_count": 2,
   "id": "fd9911e9",
   "metadata": {},
   "outputs": [
    {
     "data": {
      "text/plain": [
       "1    22\n",
       "2    -1\n",
       "3   -45\n",
       "4   -16\n",
       "5    44\n",
       "dtype: int32"
      ]
     },
     "execution_count": 2,
     "metadata": {},
     "output_type": "execute_result"
    }
   ],
   "source": [
    "arr = np.random.randint(-50,50,5) # -50 ile 50 arasında rastgele 5 tane sayıdan oluşan dizi oluştur\n",
    "seria = pd.Series(arr,index=[1,2,3,4,5]) # arr dizisine göre seri tanımlama\n",
    "seria"
   ]
  },
  {
   "cell_type": "code",
   "execution_count": 3,
   "id": "f6003481",
   "metadata": {},
   "outputs": [
    {
     "data": {
      "text/plain": [
       "1"
      ]
     },
     "execution_count": 3,
     "metadata": {},
     "output_type": "execute_result"
    }
   ],
   "source": [
    "seria.ndim # serinin boyutu"
   ]
  },
  {
   "cell_type": "code",
   "execution_count": 4,
   "id": "a41b7b75",
   "metadata": {},
   "outputs": [
    {
     "data": {
      "text/plain": [
       "dtype('int32')"
      ]
     },
     "execution_count": 4,
     "metadata": {},
     "output_type": "execute_result"
    }
   ],
   "source": [
    "seria.dtype # serinin veri tipi int,float,str,object vb."
   ]
  },
  {
   "cell_type": "code",
   "execution_count": 5,
   "id": "6f8438fb",
   "metadata": {},
   "outputs": [
    {
     "data": {
      "text/plain": [
       "(5,)"
      ]
     },
     "execution_count": 5,
     "metadata": {},
     "output_type": "execute_result"
    }
   ],
   "source": [
    "seria.shape # serinin şekli framelerde daha yrıntılı incelenecek"
   ]
  },
  {
   "cell_type": "code",
   "execution_count": 6,
   "id": "ba5f3d19",
   "metadata": {},
   "outputs": [
    {
     "data": {
      "text/plain": [
       "44"
      ]
     },
     "execution_count": 6,
     "metadata": {},
     "output_type": "execute_result"
    }
   ],
   "source": [
    "seria.max() # serinin maxsimum değeri"
   ]
  },
  {
   "cell_type": "code",
   "execution_count": 7,
   "id": "53329587",
   "metadata": {},
   "outputs": [
    {
     "data": {
      "text/plain": [
       "-45"
      ]
     },
     "execution_count": 7,
     "metadata": {},
     "output_type": "execute_result"
    }
   ],
   "source": [
    "seria.min() # serinin minimum değeri"
   ]
  },
  {
   "cell_type": "code",
   "execution_count": 8,
   "id": "6605b22a",
   "metadata": {},
   "outputs": [
    {
     "data": {
      "text/plain": [
       "4"
      ]
     },
     "execution_count": 8,
     "metadata": {},
     "output_type": "execute_result"
    }
   ],
   "source": [
    "seria.sum() # serinin toplamı"
   ]
  },
  {
   "cell_type": "code",
   "execution_count": 9,
   "id": "1758eaa5",
   "metadata": {},
   "outputs": [
    {
     "data": {
      "text/plain": [
       "0.8"
      ]
     },
     "execution_count": 9,
     "metadata": {},
     "output_type": "execute_result"
    }
   ],
   "source": [
    "seria.mean()  # serinin ortalaması"
   ]
  },
  {
   "cell_type": "code",
   "execution_count": 10,
   "id": "0bc49218",
   "metadata": {},
   "outputs": [
    {
     "data": {
      "text/plain": [
       "4"
      ]
     },
     "execution_count": 10,
     "metadata": {},
     "output_type": "execute_result"
    }
   ],
   "source": [
    "seria.argmax()  # serinin max değerinin yeri"
   ]
  },
  {
   "cell_type": "code",
   "execution_count": 11,
   "id": "a67c3129",
   "metadata": {},
   "outputs": [
    {
     "data": {
      "text/plain": [
       "2"
      ]
     },
     "execution_count": 11,
     "metadata": {},
     "output_type": "execute_result"
    }
   ],
   "source": [
    "seria.argmin() # serinin min değerinin yeri"
   ]
  },
  {
   "cell_type": "code",
   "execution_count": 12,
   "id": "b82f7894",
   "metadata": {},
   "outputs": [
    {
     "data": {
      "text/plain": [
       "5"
      ]
     },
     "execution_count": 12,
     "metadata": {},
     "output_type": "execute_result"
    }
   ],
   "source": [
    "seria.size # serinin uzunluğunu verir"
   ]
  },
  {
   "cell_type": "markdown",
   "id": "b4366a47",
   "metadata": {},
   "source": [
    "# "
   ]
  },
  {
   "cell_type": "code",
   "execution_count": 13,
   "id": "c4967d41",
   "metadata": {},
   "outputs": [
    {
     "name": "stdout",
     "output_type": "stream",
     "text": [
      "Numpy Dizileri: \n",
      " [-17 -13  -9   5  15] \n",
      "\n",
      " [-18 -15  -6  11  19]\n",
      "\n",
      "Pandas Serileri: \n",
      " 0   -17\n",
      "1   -13\n",
      "2    -9\n",
      "3     5\n",
      "4    15\n",
      "dtype: int32 \n",
      "\n",
      " 0   -18\n",
      "1   -15\n",
      "2    -6\n",
      "3    11\n",
      "4    19\n",
      "dtype: int32\n"
     ]
    }
   ],
   "source": [
    "arr1 = np.random.randint(-20,20,5)\n",
    "arr2 = np.random.randint(-20,20,5)\n",
    "arr1.sort()\n",
    "arr2.sort() # diziler küçükten büyüğe sıralanıyor daha güzel gözüksün diye yaptım\n",
    "\n",
    "print(\"Numpy Dizileri: \\n\",arr1, \"\\n\\n\" , arr2)\n",
    "\n",
    "seria1 = pd.Series(arr1)\n",
    "seria2 = pd.Series(arr2)\n",
    "\n",
    "print(\"\\nPandas Serileri: \\n\",seria1, \"\\n\\n\" , seria2)\n",
    "\n",
    "\n"
   ]
  },
  {
   "cell_type": "code",
   "execution_count": 14,
   "id": "97a2fbf8",
   "metadata": {},
   "outputs": [
    {
     "name": "stdout",
     "output_type": "stream",
     "text": [
      "0   -35\n",
      "1   -28\n",
      "2   -15\n",
      "3    16\n",
      "4    34\n",
      "dtype: int32 \n",
      "\n",
      "0    1\n",
      "1    2\n",
      "2   -3\n",
      "3   -6\n",
      "4   -4\n",
      "dtype: int32 \n",
      "\n",
      "0    -7\n",
      "1    -3\n",
      "2     1\n",
      "3    15\n",
      "4    25\n",
      "dtype: int32 \n",
      "\n",
      "0    306\n",
      "1    195\n",
      "2     54\n",
      "3     55\n",
      "4    285\n",
      "dtype: int32 \n",
      "\n",
      "0   -170\n",
      "1   -130\n",
      "2    -90\n",
      "3     50\n",
      "4    150\n",
      "dtype: int32 \n",
      "\n",
      "0    0.944444\n",
      "1    0.866667\n",
      "2    1.500000\n",
      "3    0.454545\n",
      "4    0.789474\n",
      "dtype: float64 \n",
      "\n",
      "0   -1.7\n",
      "1   -1.3\n",
      "2   -0.9\n",
      "3    0.5\n",
      "4    1.5\n",
      "dtype: float64 \n",
      "\n"
     ]
    }
   ],
   "source": [
    "# Pandas ile matematik işlemleri + - * /\n",
    "print(seria1 + seria2,\"\\n\")\n",
    "print(seria1 - seria2,\"\\n\")\n",
    "print(seria1 + 10,\"\\n\")\n",
    "print(seria1 * seria2,\"\\n\")\n",
    "print(seria1 * 10,\"\\n\")\n",
    "print(seria1 / seria2,\"\\n\")\n",
    "print(seria1 / 10,\"\\n\")\n"
   ]
  },
  {
   "cell_type": "code",
   "execution_count": 15,
   "id": "ebdd540e",
   "metadata": {},
   "outputs": [
    {
     "data": {
      "text/plain": [
       "0    -18\n",
       "1    -16\n",
       "3     46\n",
       "4      4\n",
       "6    -50\n",
       "7     -6\n",
       "11   -42\n",
       "13    20\n",
       "15    16\n",
       "16   -44\n",
       "17   -28\n",
       "18   -50\n",
       "19    40\n",
       "dtype: int32"
      ]
     },
     "execution_count": 15,
     "metadata": {},
     "output_type": "execute_result"
    }
   ],
   "source": [
    "# pandas filtreleme\n",
    "newarr = np.random.randint(-50,50,20)\n",
    "newseria = pd.Series(newarr) \n",
    "\n",
    "newseria[newseria%2 == 0] # seri içerisindeki bütün çift sayıları gösterir"
   ]
  },
  {
   "cell_type": "code",
   "execution_count": null,
   "id": "8ff88537",
   "metadata": {},
   "outputs": [],
   "source": []
  }
 ],
 "metadata": {
  "kernelspec": {
   "display_name": "Python 3 (ipykernel)",
   "language": "python",
   "name": "python3"
  },
  "language_info": {
   "codemirror_mode": {
    "name": "ipython",
    "version": 3
   },
   "file_extension": ".py",
   "mimetype": "text/x-python",
   "name": "python",
   "nbconvert_exporter": "python",
   "pygments_lexer": "ipython3",
   "version": "3.10.7"
  }
 },
 "nbformat": 4,
 "nbformat_minor": 5
}
