{
 "cells": [
  {
   "cell_type": "code",
   "execution_count": null,
   "id": "9605c74d",
   "metadata": {},
   "outputs": [],
   "source": [
    "import numpy as np\n",
    "import pandas as pd"
   ]
  },
  {
   "cell_type": "code",
   "execution_count": null,
   "id": "b6e2a3bc",
   "metadata": {
    "scrolled": true
   },
   "outputs": [],
   "source": [
    "df = pd.read_csv(\"datasets/nba.csv\")\n",
    "df"
   ]
  },
  {
   "cell_type": "code",
   "execution_count": null,
   "id": "9aa63110",
   "metadata": {},
   "outputs": [],
   "source": [
    "df[\"Salary\"].sum()"
   ]
  },
  {
   "cell_type": "code",
   "execution_count": null,
   "id": "877369c1",
   "metadata": {},
   "outputs": [],
   "source": [
    "df.groupby(\"Position\").groups"
   ]
  },
  {
   "cell_type": "code",
   "execution_count": null,
   "id": "2136e83c",
   "metadata": {},
   "outputs": [],
   "source": [
    "df.groupby([\"Team\",\"College\"]).groups"
   ]
  },
  {
   "cell_type": "code",
   "execution_count": null,
   "id": "afb3fefe",
   "metadata": {},
   "outputs": [],
   "source": [
    "dict(df.groupby(\"Position\").groups)"
   ]
  },
  {
   "cell_type": "code",
   "execution_count": null,
   "id": "9a67d17c",
   "metadata": {},
   "outputs": [],
   "source": [
    "for name, group in df.groupby(\"Team\"):\n",
    "    print(name)\n",
    "    print(group)"
   ]
  },
  {
   "cell_type": "code",
   "execution_count": null,
   "id": "0dfaf321",
   "metadata": {},
   "outputs": [],
   "source": [
    "for name, group in df.groupby([\"Team\",\"Position\"]):\n",
    "    print(name)\n",
    "    print(group)"
   ]
  },
  {
   "cell_type": "code",
   "execution_count": null,
   "id": "1c3c4ee5",
   "metadata": {},
   "outputs": [],
   "source": [
    "df.groupby(\"College\").get_group(\"Stanford\")"
   ]
  },
  {
   "cell_type": "code",
   "execution_count": null,
   "id": "39a1957b",
   "metadata": {},
   "outputs": [],
   "source": [
    "df.groupby(\"College\").sum()"
   ]
  },
  {
   "cell_type": "code",
   "execution_count": null,
   "id": "7dc77620",
   "metadata": {},
   "outputs": [],
   "source": [
    "df.groupby(\"College\")[\"Number\",\"Age\",\"Weight\",\"Salary\"].sum()"
   ]
  },
  {
   "cell_type": "code",
   "execution_count": null,
   "id": "873a60a7",
   "metadata": {},
   "outputs": [],
   "source": [
    "df.groupby(\"College\")[\"Number\"].sum()"
   ]
  },
  {
   "cell_type": "code",
   "execution_count": null,
   "id": "989923c0",
   "metadata": {},
   "outputs": [],
   "source": [
    "df.groupby(\"College\")[\"Number\"].get_group(\"Stanford\").sum()"
   ]
  },
  {
   "cell_type": "code",
   "execution_count": null,
   "id": "d9e18f47",
   "metadata": {},
   "outputs": [],
   "source": [
    "df.groupby(\"College\")[\"Number\"].sum()"
   ]
  },
  {
   "cell_type": "code",
   "execution_count": null,
   "id": "02ddef18",
   "metadata": {},
   "outputs": [],
   "source": [
    "df.groupby(\"College\")[\"Number\"].count()"
   ]
  },
  {
   "cell_type": "code",
   "execution_count": null,
   "id": "e47d2759",
   "metadata": {},
   "outputs": [],
   "source": [
    "df.groupby(\"College\")[\"Number\"].mean()"
   ]
  },
  {
   "cell_type": "code",
   "execution_count": null,
   "id": "f519fdc7",
   "metadata": {},
   "outputs": [],
   "source": [
    "df.groupby(\"College\")[\"Number\"].max()"
   ]
  },
  {
   "cell_type": "code",
   "execution_count": null,
   "id": "5341113e",
   "metadata": {},
   "outputs": [],
   "source": [
    "df.groupby(\"College\")[\"Number\"].min()"
   ]
  },
  {
   "cell_type": "code",
   "execution_count": null,
   "id": "32e7a187",
   "metadata": {},
   "outputs": [],
   "source": [
    "df.groupby(\"College\")[\"Number\"].agg(np.mean)"
   ]
  },
  {
   "cell_type": "code",
   "execution_count": null,
   "id": "a80dfc10",
   "metadata": {},
   "outputs": [],
   "source": [
    "df.groupby(\"College\")[\"Number\"].agg([np.mean,np.sum])"
   ]
  },
  {
   "cell_type": "code",
   "execution_count": null,
   "id": "1bf014da",
   "metadata": {},
   "outputs": [],
   "source": [
    "df.groupby(\"College\")[\"Number\"].agg([np.mean,np.sum]).loc[\"Alabama\"]"
   ]
  },
  {
   "cell_type": "code",
   "execution_count": null,
   "id": "8254a688",
   "metadata": {},
   "outputs": [],
   "source": []
  }
 ],
 "metadata": {
  "kernelspec": {
   "display_name": "Python 3 (ipykernel)",
   "language": "python",
   "name": "python3"
  },
  "language_info": {
   "codemirror_mode": {
    "name": "ipython",
    "version": 3
   },
   "file_extension": ".py",
   "mimetype": "text/x-python",
   "name": "python",
   "nbconvert_exporter": "python",
   "pygments_lexer": "ipython3",
   "version": "3.10.7"
  }
 },
 "nbformat": 4,
 "nbformat_minor": 5
}
