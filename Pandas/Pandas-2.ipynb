{
 "cells": [
  {
   "cell_type": "code",
   "execution_count": 1,
   "id": "c8cb3834",
   "metadata": {},
   "outputs": [],
   "source": [
    "import pandas as pd\n",
    "import numpy as np"
   ]
  },
  {
   "cell_type": "code",
   "execution_count": 2,
   "id": "fd9911e9",
   "metadata": {},
   "outputs": [
    {
     "data": {
      "text/plain": [
       "1   -20\n",
       "2    16\n",
       "3   -17\n",
       "4    28\n",
       "5     0\n",
       "dtype: int32"
      ]
     },
     "execution_count": 2,
     "metadata": {},
     "output_type": "execute_result"
    }
   ],
   "source": [
    "arr = np.random.randint(-50,50,5) # -50 ile 50 arasında rastgele 5 tane sayıdan oluşan dizi oluştur\n",
    "seria = pd.Series(arr,index=[1,2,3,4,5]) # arr dizisine göre seri tanımlama\n",
    "seria"
   ]
  },
  {
   "cell_type": "code",
   "execution_count": 3,
   "id": "f6003481",
   "metadata": {},
   "outputs": [
    {
     "data": {
      "text/plain": [
       "1"
      ]
     },
     "execution_count": 3,
     "metadata": {},
     "output_type": "execute_result"
    }
   ],
   "source": [
    "seria.ndim # serinin boyutu"
   ]
  },
  {
   "cell_type": "code",
   "execution_count": 4,
   "id": "a41b7b75",
   "metadata": {},
   "outputs": [
    {
     "data": {
      "text/plain": [
       "dtype('int32')"
      ]
     },
     "execution_count": 4,
     "metadata": {},
     "output_type": "execute_result"
    }
   ],
   "source": [
    "seria.dtype # serinin veri tipi int,float,str,object vb."
   ]
  },
  {
   "cell_type": "code",
   "execution_count": 5,
   "id": "6f8438fb",
   "metadata": {},
   "outputs": [
    {
     "data": {
      "text/plain": [
       "(5,)"
      ]
     },
     "execution_count": 5,
     "metadata": {},
     "output_type": "execute_result"
    }
   ],
   "source": [
    "seria.shape # serinin şekli framelerde daha yrıntılı incelenecek"
   ]
  },
  {
   "cell_type": "code",
   "execution_count": 6,
   "id": "ba5f3d19",
   "metadata": {},
   "outputs": [
    {
     "data": {
      "text/plain": [
       "28"
      ]
     },
     "execution_count": 6,
     "metadata": {},
     "output_type": "execute_result"
    }
   ],
   "source": [
    "seria.max() # serinin maxsimum değeri"
   ]
  },
  {
   "cell_type": "code",
   "execution_count": 7,
   "id": "53329587",
   "metadata": {},
   "outputs": [
    {
     "data": {
      "text/plain": [
       "-20"
      ]
     },
     "execution_count": 7,
     "metadata": {},
     "output_type": "execute_result"
    }
   ],
   "source": [
    "seria.min() # serinin minimum değeri"
   ]
  },
  {
   "cell_type": "code",
   "execution_count": 8,
   "id": "6605b22a",
   "metadata": {},
   "outputs": [
    {
     "data": {
      "text/plain": [
       "7"
      ]
     },
     "execution_count": 8,
     "metadata": {},
     "output_type": "execute_result"
    }
   ],
   "source": [
    "seria.sum() # serinin toplamı"
   ]
  },
  {
   "cell_type": "code",
   "execution_count": 9,
   "id": "1758eaa5",
   "metadata": {},
   "outputs": [
    {
     "data": {
      "text/plain": [
       "1.4"
      ]
     },
     "execution_count": 9,
     "metadata": {},
     "output_type": "execute_result"
    }
   ],
   "source": [
    "seria.mean()  # serinin ortalaması"
   ]
  },
  {
   "cell_type": "code",
   "execution_count": 10,
   "id": "0bc49218",
   "metadata": {},
   "outputs": [
    {
     "data": {
      "text/plain": [
       "3"
      ]
     },
     "execution_count": 10,
     "metadata": {},
     "output_type": "execute_result"
    }
   ],
   "source": [
    "seria.argmax()  # serinin max değerinin yeri"
   ]
  },
  {
   "cell_type": "code",
   "execution_count": 11,
   "id": "a67c3129",
   "metadata": {},
   "outputs": [
    {
     "data": {
      "text/plain": [
       "0"
      ]
     },
     "execution_count": 11,
     "metadata": {},
     "output_type": "execute_result"
    }
   ],
   "source": [
    "seria.argmin() # serinin min değerinin yeri"
   ]
  },
  {
   "cell_type": "code",
   "execution_count": 12,
   "id": "b82f7894",
   "metadata": {},
   "outputs": [
    {
     "data": {
      "text/plain": [
       "5"
      ]
     },
     "execution_count": 12,
     "metadata": {},
     "output_type": "execute_result"
    }
   ],
   "source": [
    "seria.size # serinin uzunluğunu verir"
   ]
  },
  {
   "cell_type": "markdown",
   "id": "b4366a47",
   "metadata": {},
   "source": [
    "# "
   ]
  },
  {
   "cell_type": "code",
   "execution_count": 13,
   "id": "c4967d41",
   "metadata": {},
   "outputs": [
    {
     "name": "stdout",
     "output_type": "stream",
     "text": [
      "Numpy Dizileri: \n",
      " [-14  -7  -1   8   8] \n",
      "\n",
      " [-14 -14 -11   0   8]\n",
      "\n",
      "Pandas Serileri: \n",
      " 0   -14\n",
      "1    -7\n",
      "2    -1\n",
      "3     8\n",
      "4     8\n",
      "dtype: int32 \n",
      "\n",
      " 0   -14\n",
      "1   -14\n",
      "2   -11\n",
      "3     0\n",
      "4     8\n",
      "dtype: int32\n"
     ]
    }
   ],
   "source": [
    "arr1 = np.random.randint(-20,20,5)\n",
    "arr2 = np.random.randint(-20,20,5)\n",
    "arr1.sort()\n",
    "arr2.sort() # diziler küçükten büyüğe sıralanıyor daha güzel gözüksün diye yaptım\n",
    "\n",
    "print(\"Numpy Dizileri: \\n\",arr1, \"\\n\\n\" , arr2)\n",
    "\n",
    "seria1 = pd.Series(arr1)\n",
    "seria2 = pd.Series(arr2)\n",
    "\n",
    "print(\"\\nPandas Serileri: \\n\",seria1, \"\\n\\n\" , seria2)\n",
    "\n",
    "\n"
   ]
  },
  {
   "cell_type": "code",
   "execution_count": 64,
   "id": "8eafd6da",
   "metadata": {},
   "outputs": [
    {
     "data": {
      "text/plain": [
       "0   -3\n",
       "1   -3\n",
       "2   -3\n",
       "3    0\n",
       "4    1\n",
       "dtype: int32"
      ]
     },
     "execution_count": 64,
     "metadata": {},
     "output_type": "execute_result"
    }
   ],
   "source": [
    "np.floor(seria2.div(5)) # 2. seriynin 5e bölündüğünde küçük değere yuvarlamam işlemi seria2.floordiv(5)\n",
    "np.round(seria2.div(5)) # 2. seriyi 5e bölündüğünde ondalıklı sayıları matematikte olduğu gibi yuvarlama işlemi yapar\n",
    "np.ceil(seria2.div(5)) # 2. seriynin 5e bölündüğünde büyük değere yuvarlama işlemi seria2.floordiv(5)\n",
    "\n",
    "seria2.floordiv(5)"
   ]
  },
  {
   "cell_type": "code",
   "execution_count": 14,
   "id": "97a2fbf8",
   "metadata": {},
   "outputs": [
    {
     "name": "stdout",
     "output_type": "stream",
     "text": [
      "0   -28\n",
      "1   -21\n",
      "2   -12\n",
      "3     8\n",
      "4    16\n",
      "dtype: int32 \n",
      "\n",
      "0     0\n",
      "1     7\n",
      "2    10\n",
      "3     8\n",
      "4     0\n",
      "dtype: int32 \n",
      "\n",
      "0    -4\n",
      "1     3\n",
      "2     9\n",
      "3    18\n",
      "4    18\n",
      "dtype: int32 \n",
      "\n",
      "0    196\n",
      "1     98\n",
      "2     11\n",
      "3      0\n",
      "4     64\n",
      "dtype: int32 \n",
      "\n",
      "0   -140\n",
      "1    -70\n",
      "2    -10\n",
      "3     80\n",
      "4     80\n",
      "dtype: int32 \n",
      "\n",
      "0    1.000000\n",
      "1    0.500000\n",
      "2    0.090909\n",
      "3         inf\n",
      "4    1.000000\n",
      "dtype: float64 \n",
      "\n",
      "0   -1.4\n",
      "1   -0.7\n",
      "2   -0.1\n",
      "3    0.8\n",
      "4    0.8\n",
      "dtype: float64 \n",
      "\n"
     ]
    }
   ],
   "source": [
    "# Pandas ile matematik işlemleri + - * /\n",
    "print(seria1 + seria2,\"\\n\")\n",
    "print(seria1 - seria2,\"\\n\")\n",
    "print(seria1 + 10,\"\\n\")\n",
    "print(seria1 * seria2,\"\\n\")\n",
    "print(seria1 * 10,\"\\n\")\n",
    "print(seria1 / seria2,\"\\n\")\n",
    "print(seria1 / 10,\"\\n\")\n"
   ]
  },
  {
   "cell_type": "code",
   "execution_count": 76,
   "id": "ebdd540e",
   "metadata": {},
   "outputs": [
    {
     "data": {
      "text/plain": [
       "0     31\n",
       "1     48\n",
       "2     -3\n",
       "3     18\n",
       "4    -39\n",
       "5     -4\n",
       "6    -32\n",
       "7     28\n",
       "8    -43\n",
       "9    -41\n",
       "10    17\n",
       "11     4\n",
       "12   -43\n",
       "13     3\n",
       "14    16\n",
       "15    32\n",
       "16   -50\n",
       "17    40\n",
       "18    43\n",
       "19    -7\n",
       "dtype: int32"
      ]
     },
     "execution_count": 76,
     "metadata": {},
     "output_type": "execute_result"
    }
   ],
   "source": [
    "# pandas filtreleme\n",
    "newarr = np.random.randint(-50,50,20)\n",
    "newarr2 = np.random.randint(-20,20,20)\n",
    "\n",
    "newseria = pd.Series(newarr) \n",
    "newseria2 = pd.Series(newarr2) \n",
    "\n",
    "newseria\n",
    "\n",
    "\n",
    "#newseria[newseria%2 == 0] # seri içerisindeki bütün çift sayıları gösterir"
   ]
  },
  {
   "cell_type": "code",
   "execution_count": 77,
   "id": "849ed236",
   "metadata": {},
   "outputs": [
    {
     "data": {
      "text/plain": [
       "0     10\n",
       "1     -3\n",
       "2      5\n",
       "3     10\n",
       "4     -7\n",
       "5     13\n",
       "6    -14\n",
       "7     -6\n",
       "8     11\n",
       "9     10\n",
       "10    13\n",
       "11    18\n",
       "12    -6\n",
       "13     7\n",
       "14    -5\n",
       "15   -17\n",
       "16    -3\n",
       "17    17\n",
       "18   -16\n",
       "19    -7\n",
       "dtype: int32"
      ]
     },
     "execution_count": 77,
     "metadata": {},
     "output_type": "execute_result"
    }
   ],
   "source": [
    "newseria2\n",
    "\n"
   ]
  },
  {
   "cell_type": "code",
   "execution_count": 79,
   "id": "8ff88537",
   "metadata": {},
   "outputs": [
    {
     "data": {
      "text/plain": [
       "2     -3\n",
       "4    -39\n",
       "5     -4\n",
       "6    -32\n",
       "8    -43\n",
       "9    -41\n",
       "12   -43\n",
       "16   -50\n",
       "19    -7\n",
       "dtype: int32"
      ]
     },
     "execution_count": 79,
     "metadata": {},
     "output_type": "execute_result"
    }
   ],
   "source": [
    "\n",
    "newseria[newseria < 0] # bir koşul ifadesi yazarsak seri içerisindeki değerler eğer o koşula uyuyorsa o elemanları gösterir "
   ]
  }
 ],
 "metadata": {
  "kernelspec": {
   "display_name": "Python 3 (ipykernel)",
   "language": "python",
   "name": "python3"
  },
  "language_info": {
   "codemirror_mode": {
    "name": "ipython",
    "version": 3
   },
   "file_extension": ".py",
   "mimetype": "text/x-python",
   "name": "python",
   "nbconvert_exporter": "python",
   "pygments_lexer": "ipython3",
   "version": "3.10.7"
  }
 },
 "nbformat": 4,
 "nbformat_minor": 5
}
