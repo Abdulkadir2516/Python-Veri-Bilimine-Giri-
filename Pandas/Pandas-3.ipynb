{
 "cells": [
  {
   "cell_type": "code",
   "execution_count": 1,
   "id": "9029b8df",
   "metadata": {},
   "outputs": [],
   "source": [
    "import numpy as np\n",
    "import pandas as pd"
   ]
  },
  {
   "cell_type": "code",
   "execution_count": 2,
   "id": "dc4dd683",
   "metadata": {},
   "outputs": [],
   "source": [
    "#help(pd.DataFrame())\n",
    "#dir(pd.DataFrame())"
   ]
  },
  {
   "cell_type": "code",
   "execution_count": 17,
   "id": "c4b37210",
   "metadata": {},
   "outputs": [
    {
     "data": {
      "text/html": [
       "<div>\n",
       "<style scoped>\n",
       "    .dataframe tbody tr th:only-of-type {\n",
       "        vertical-align: middle;\n",
       "    }\n",
       "\n",
       "    .dataframe tbody tr th {\n",
       "        vertical-align: top;\n",
       "    }\n",
       "\n",
       "    .dataframe thead th {\n",
       "        text-align: right;\n",
       "    }\n",
       "</style>\n",
       "<table border=\"1\" class=\"dataframe\">\n",
       "  <thead>\n",
       "    <tr style=\"text-align: right;\">\n",
       "      <th></th>\n",
       "      <th>0</th>\n",
       "      <th>1</th>\n",
       "      <th>2</th>\n",
       "      <th>3</th>\n",
       "      <th>4</th>\n",
       "      <th>5</th>\n",
       "      <th>6</th>\n",
       "    </tr>\n",
       "  </thead>\n",
       "  <tbody>\n",
       "    <tr>\n",
       "      <th>0</th>\n",
       "      <td>12</td>\n",
       "      <td>-9</td>\n",
       "      <td>7</td>\n",
       "      <td>4</td>\n",
       "      <td>34</td>\n",
       "      <td>29</td>\n",
       "      <td>47</td>\n",
       "    </tr>\n",
       "    <tr>\n",
       "      <th>1</th>\n",
       "      <td>-16</td>\n",
       "      <td>-43</td>\n",
       "      <td>-32</td>\n",
       "      <td>-4</td>\n",
       "      <td>-16</td>\n",
       "      <td>45</td>\n",
       "      <td>-21</td>\n",
       "    </tr>\n",
       "    <tr>\n",
       "      <th>2</th>\n",
       "      <td>-1</td>\n",
       "      <td>23</td>\n",
       "      <td>0</td>\n",
       "      <td>30</td>\n",
       "      <td>-27</td>\n",
       "      <td>23</td>\n",
       "      <td>20</td>\n",
       "    </tr>\n",
       "    <tr>\n",
       "      <th>3</th>\n",
       "      <td>43</td>\n",
       "      <td>3</td>\n",
       "      <td>-22</td>\n",
       "      <td>-17</td>\n",
       "      <td>-40</td>\n",
       "      <td>31</td>\n",
       "      <td>6</td>\n",
       "    </tr>\n",
       "    <tr>\n",
       "      <th>4</th>\n",
       "      <td>35</td>\n",
       "      <td>46</td>\n",
       "      <td>-22</td>\n",
       "      <td>-45</td>\n",
       "      <td>-25</td>\n",
       "      <td>16</td>\n",
       "      <td>-8</td>\n",
       "    </tr>\n",
       "    <tr>\n",
       "      <th>5</th>\n",
       "      <td>32</td>\n",
       "      <td>-31</td>\n",
       "      <td>38</td>\n",
       "      <td>43</td>\n",
       "      <td>-6</td>\n",
       "      <td>-41</td>\n",
       "      <td>-19</td>\n",
       "    </tr>\n",
       "    <tr>\n",
       "      <th>6</th>\n",
       "      <td>20</td>\n",
       "      <td>-4</td>\n",
       "      <td>-48</td>\n",
       "      <td>8</td>\n",
       "      <td>37</td>\n",
       "      <td>30</td>\n",
       "      <td>37</td>\n",
       "    </tr>\n",
       "    <tr>\n",
       "      <th>7</th>\n",
       "      <td>-50</td>\n",
       "      <td>-1</td>\n",
       "      <td>-23</td>\n",
       "      <td>9</td>\n",
       "      <td>-18</td>\n",
       "      <td>-30</td>\n",
       "      <td>-15</td>\n",
       "    </tr>\n",
       "    <tr>\n",
       "      <th>8</th>\n",
       "      <td>26</td>\n",
       "      <td>13</td>\n",
       "      <td>-32</td>\n",
       "      <td>44</td>\n",
       "      <td>-47</td>\n",
       "      <td>-21</td>\n",
       "      <td>-3</td>\n",
       "    </tr>\n",
       "    <tr>\n",
       "      <th>9</th>\n",
       "      <td>1</td>\n",
       "      <td>-49</td>\n",
       "      <td>14</td>\n",
       "      <td>-16</td>\n",
       "      <td>-20</td>\n",
       "      <td>18</td>\n",
       "      <td>18</td>\n",
       "    </tr>\n",
       "    <tr>\n",
       "      <th>10</th>\n",
       "      <td>-50</td>\n",
       "      <td>43</td>\n",
       "      <td>11</td>\n",
       "      <td>26</td>\n",
       "      <td>38</td>\n",
       "      <td>-38</td>\n",
       "      <td>30</td>\n",
       "    </tr>\n",
       "    <tr>\n",
       "      <th>11</th>\n",
       "      <td>-30</td>\n",
       "      <td>15</td>\n",
       "      <td>18</td>\n",
       "      <td>41</td>\n",
       "      <td>38</td>\n",
       "      <td>-10</td>\n",
       "      <td>40</td>\n",
       "    </tr>\n",
       "    <tr>\n",
       "      <th>12</th>\n",
       "      <td>46</td>\n",
       "      <td>11</td>\n",
       "      <td>21</td>\n",
       "      <td>7</td>\n",
       "      <td>-37</td>\n",
       "      <td>-47</td>\n",
       "      <td>30</td>\n",
       "    </tr>\n",
       "    <tr>\n",
       "      <th>13</th>\n",
       "      <td>-37</td>\n",
       "      <td>3</td>\n",
       "      <td>28</td>\n",
       "      <td>9</td>\n",
       "      <td>-3</td>\n",
       "      <td>-6</td>\n",
       "      <td>-24</td>\n",
       "    </tr>\n",
       "    <tr>\n",
       "      <th>14</th>\n",
       "      <td>45</td>\n",
       "      <td>-39</td>\n",
       "      <td>3</td>\n",
       "      <td>19</td>\n",
       "      <td>-48</td>\n",
       "      <td>22</td>\n",
       "      <td>-23</td>\n",
       "    </tr>\n",
       "  </tbody>\n",
       "</table>\n",
       "</div>"
      ],
      "text/plain": [
       "     0   1   2   3   4   5   6\n",
       "0   12  -9   7   4  34  29  47\n",
       "1  -16 -43 -32  -4 -16  45 -21\n",
       "2   -1  23   0  30 -27  23  20\n",
       "3   43   3 -22 -17 -40  31   6\n",
       "4   35  46 -22 -45 -25  16  -8\n",
       "5   32 -31  38  43  -6 -41 -19\n",
       "6   20  -4 -48   8  37  30  37\n",
       "7  -50  -1 -23   9 -18 -30 -15\n",
       "8   26  13 -32  44 -47 -21  -3\n",
       "9    1 -49  14 -16 -20  18  18\n",
       "10 -50  43  11  26  38 -38  30\n",
       "11 -30  15  18  41  38 -10  40\n",
       "12  46  11  21   7 -37 -47  30\n",
       "13 -37   3  28   9  -3  -6 -24\n",
       "14  45 -39   3  19 -48  22 -23"
      ]
     },
     "execution_count": 17,
     "metadata": {},
     "output_type": "execute_result"
    }
   ],
   "source": [
    "# öncesinde 15 satır 7 sütunluk bir dizi oluşturuyoruz örnek bir dizi\n",
    "arr = np.random.randint(-50,50,105).reshape(15,7)\n",
    "\n",
    "# daha sonra bu diziyi data frame aktarıyoruz\n",
    "# not data frameler 2 boyutludur\n",
    "sr = pd.DataFrame(arr)\n",
    "sr"
   ]
  },
  {
   "cell_type": "code",
   "execution_count": 4,
   "id": "333703af",
   "metadata": {},
   "outputs": [
    {
     "data": {
      "text/html": [
       "<div>\n",
       "<style scoped>\n",
       "    .dataframe tbody tr th:only-of-type {\n",
       "        vertical-align: middle;\n",
       "    }\n",
       "\n",
       "    .dataframe tbody tr th {\n",
       "        vertical-align: top;\n",
       "    }\n",
       "\n",
       "    .dataframe thead th {\n",
       "        text-align: right;\n",
       "    }\n",
       "</style>\n",
       "<table border=\"1\" class=\"dataframe\">\n",
       "  <thead>\n",
       "    <tr style=\"text-align: right;\">\n",
       "      <th></th>\n",
       "      <th>a</th>\n",
       "      <th>b</th>\n",
       "      <th>c</th>\n",
       "    </tr>\n",
       "  </thead>\n",
       "  <tbody>\n",
       "    <tr>\n",
       "      <th>x</th>\n",
       "      <td>1</td>\n",
       "      <td>2</td>\n",
       "      <td>3</td>\n",
       "    </tr>\n",
       "    <tr>\n",
       "      <th>y</th>\n",
       "      <td>4</td>\n",
       "      <td>5</td>\n",
       "      <td>6</td>\n",
       "    </tr>\n",
       "    <tr>\n",
       "      <th>z</th>\n",
       "      <td>7</td>\n",
       "      <td>8</td>\n",
       "      <td>9</td>\n",
       "    </tr>\n",
       "  </tbody>\n",
       "</table>\n",
       "</div>"
      ],
      "text/plain": [
       "   a  b  c\n",
       "x  1  2  3\n",
       "y  4  5  6\n",
       "z  7  8  9"
      ]
     },
     "execution_count": 4,
     "metadata": {},
     "output_type": "execute_result"
    }
   ],
   "source": [
    "# örnek dataframe oluşturma\n",
    "# burada belli koşullar içerisinde (verinin şekli ile indexler ve kolonların sayısı uyuşacak) istediğimiz gibi \n",
    "# satır indexlerinin ve sütun yani kolon isimlerini verebiliriz\n",
    "frame = pd.DataFrame(np.array([[1, 2, 3], [4, 5, 6], [7, 8, 9]]), columns=['a', 'b', 'c'] , index=[\"x\",\"y\",\"z\"])\n",
    "frame"
   ]
  },
  {
   "cell_type": "code",
   "execution_count": 5,
   "id": "045335fc",
   "metadata": {},
   "outputs": [
    {
     "data": {
      "text/html": [
       "<div>\n",
       "<style scoped>\n",
       "    .dataframe tbody tr th:only-of-type {\n",
       "        vertical-align: middle;\n",
       "    }\n",
       "\n",
       "    .dataframe tbody tr th {\n",
       "        vertical-align: top;\n",
       "    }\n",
       "\n",
       "    .dataframe thead th {\n",
       "        text-align: right;\n",
       "    }\n",
       "</style>\n",
       "<table border=\"1\" class=\"dataframe\">\n",
       "  <thead>\n",
       "    <tr style=\"text-align: right;\">\n",
       "      <th></th>\n",
       "      <th>1</th>\n",
       "      <th>2</th>\n",
       "      <th>3</th>\n",
       "      <th>4</th>\n",
       "      <th>5</th>\n",
       "      <th>6</th>\n",
       "      <th>7</th>\n",
       "      <th>8</th>\n",
       "      <th>9</th>\n",
       "      <th>10</th>\n",
       "    </tr>\n",
       "  </thead>\n",
       "  <tbody>\n",
       "    <tr>\n",
       "      <th>1</th>\n",
       "      <td>1</td>\n",
       "      <td>2</td>\n",
       "      <td>3</td>\n",
       "      <td>4</td>\n",
       "      <td>5</td>\n",
       "      <td>6</td>\n",
       "      <td>7</td>\n",
       "      <td>8</td>\n",
       "      <td>9</td>\n",
       "      <td>10</td>\n",
       "    </tr>\n",
       "    <tr>\n",
       "      <th>2</th>\n",
       "      <td>2</td>\n",
       "      <td>4</td>\n",
       "      <td>6</td>\n",
       "      <td>8</td>\n",
       "      <td>10</td>\n",
       "      <td>12</td>\n",
       "      <td>14</td>\n",
       "      <td>16</td>\n",
       "      <td>18</td>\n",
       "      <td>20</td>\n",
       "    </tr>\n",
       "    <tr>\n",
       "      <th>3</th>\n",
       "      <td>3</td>\n",
       "      <td>6</td>\n",
       "      <td>9</td>\n",
       "      <td>12</td>\n",
       "      <td>15</td>\n",
       "      <td>18</td>\n",
       "      <td>21</td>\n",
       "      <td>24</td>\n",
       "      <td>27</td>\n",
       "      <td>30</td>\n",
       "    </tr>\n",
       "    <tr>\n",
       "      <th>4</th>\n",
       "      <td>4</td>\n",
       "      <td>8</td>\n",
       "      <td>12</td>\n",
       "      <td>16</td>\n",
       "      <td>20</td>\n",
       "      <td>24</td>\n",
       "      <td>28</td>\n",
       "      <td>32</td>\n",
       "      <td>36</td>\n",
       "      <td>40</td>\n",
       "    </tr>\n",
       "    <tr>\n",
       "      <th>5</th>\n",
       "      <td>5</td>\n",
       "      <td>10</td>\n",
       "      <td>15</td>\n",
       "      <td>20</td>\n",
       "      <td>25</td>\n",
       "      <td>30</td>\n",
       "      <td>35</td>\n",
       "      <td>40</td>\n",
       "      <td>45</td>\n",
       "      <td>50</td>\n",
       "    </tr>\n",
       "    <tr>\n",
       "      <th>6</th>\n",
       "      <td>6</td>\n",
       "      <td>12</td>\n",
       "      <td>18</td>\n",
       "      <td>24</td>\n",
       "      <td>30</td>\n",
       "      <td>36</td>\n",
       "      <td>42</td>\n",
       "      <td>48</td>\n",
       "      <td>54</td>\n",
       "      <td>60</td>\n",
       "    </tr>\n",
       "    <tr>\n",
       "      <th>7</th>\n",
       "      <td>7</td>\n",
       "      <td>14</td>\n",
       "      <td>21</td>\n",
       "      <td>28</td>\n",
       "      <td>35</td>\n",
       "      <td>42</td>\n",
       "      <td>49</td>\n",
       "      <td>56</td>\n",
       "      <td>63</td>\n",
       "      <td>70</td>\n",
       "    </tr>\n",
       "    <tr>\n",
       "      <th>8</th>\n",
       "      <td>8</td>\n",
       "      <td>16</td>\n",
       "      <td>24</td>\n",
       "      <td>32</td>\n",
       "      <td>40</td>\n",
       "      <td>48</td>\n",
       "      <td>56</td>\n",
       "      <td>64</td>\n",
       "      <td>72</td>\n",
       "      <td>80</td>\n",
       "    </tr>\n",
       "    <tr>\n",
       "      <th>9</th>\n",
       "      <td>9</td>\n",
       "      <td>18</td>\n",
       "      <td>27</td>\n",
       "      <td>36</td>\n",
       "      <td>45</td>\n",
       "      <td>54</td>\n",
       "      <td>63</td>\n",
       "      <td>72</td>\n",
       "      <td>81</td>\n",
       "      <td>90</td>\n",
       "    </tr>\n",
       "    <tr>\n",
       "      <th>10</th>\n",
       "      <td>10</td>\n",
       "      <td>20</td>\n",
       "      <td>30</td>\n",
       "      <td>40</td>\n",
       "      <td>50</td>\n",
       "      <td>60</td>\n",
       "      <td>70</td>\n",
       "      <td>80</td>\n",
       "      <td>90</td>\n",
       "      <td>100</td>\n",
       "    </tr>\n",
       "  </tbody>\n",
       "</table>\n",
       "</div>"
      ],
      "text/plain": [
       "    1   2   3   4   5   6   7   8   9    10\n",
       "1    1   2   3   4   5   6   7   8   9   10\n",
       "2    2   4   6   8  10  12  14  16  18   20\n",
       "3    3   6   9  12  15  18  21  24  27   30\n",
       "4    4   8  12  16  20  24  28  32  36   40\n",
       "5    5  10  15  20  25  30  35  40  45   50\n",
       "6    6  12  18  24  30  36  42  48  54   60\n",
       "7    7  14  21  28  35  42  49  56  63   70\n",
       "8    8  16  24  32  40  48  56  64  72   80\n",
       "9    9  18  27  36  45  54  63  72  81   90\n",
       "10  10  20  30  40  50  60  70  80  90  100"
      ]
     },
     "execution_count": 5,
     "metadata": {},
     "output_type": "execute_result"
    }
   ],
   "source": [
    "# Çarpım Tablosu\n",
    "sayilar = [1,2,3,4,5,6,7,8,9,10]\n",
    "data= []\n",
    "data2= [[],[],[],[],[],[],[],[],[],[]]\n",
    "\n",
    "for i in range(1,11):\n",
    "    for j in range(1,11):\n",
    "        data.append(i*j)\n",
    "    \n",
    "for k in range(10):\n",
    "    y = k*10\n",
    "    data2[k] = data[y:y+10]\n",
    "    \n",
    "\n",
    "frame = pd.DataFrame(data2, index=sayilar, columns = sayilar)\n",
    "frame"
   ]
  },
  {
   "cell_type": "code",
   "execution_count": 6,
   "id": "a5224b33",
   "metadata": {},
   "outputs": [
    {
     "data": {
      "text/plain": [
       "2"
      ]
     },
     "execution_count": 6,
     "metadata": {},
     "output_type": "execute_result"
    }
   ],
   "source": [
    "# data frame in boyutunu bulma 2dir\n",
    "frame.ndim "
   ]
  },
  {
   "cell_type": "code",
   "execution_count": 7,
   "id": "a54629a2",
   "metadata": {},
   "outputs": [
    {
     "data": {
      "text/plain": [
       "(10, 10)"
      ]
     },
     "execution_count": 7,
     "metadata": {},
     "output_type": "execute_result"
    }
   ],
   "source": [
    "# frame in şekli\n",
    "frame.shape"
   ]
  },
  {
   "cell_type": "code",
   "execution_count": 8,
   "id": "9ef1f7de",
   "metadata": {},
   "outputs": [
    {
     "data": {
      "text/plain": [
       "1      10\n",
       "2      20\n",
       "3      30\n",
       "4      40\n",
       "5      50\n",
       "6      60\n",
       "7      70\n",
       "8      80\n",
       "9      90\n",
       "10    100\n",
       "dtype: int64"
      ]
     },
     "execution_count": 8,
     "metadata": {},
     "output_type": "execute_result"
    }
   ],
   "source": [
    "# frame in en büyük değeri sutunlara göre\n",
    "frame.max()"
   ]
  },
  {
   "cell_type": "code",
   "execution_count": 9,
   "id": "9d4d5f91",
   "metadata": {},
   "outputs": [
    {
     "data": {
      "text/plain": [
       "100"
      ]
     },
     "execution_count": 9,
     "metadata": {},
     "output_type": "execute_result"
    }
   ],
   "source": [
    "# bütün data frame nin en büyük değeri\n",
    "frame.max().max()"
   ]
  },
  {
   "cell_type": "code",
   "execution_count": 10,
   "id": "e6cd32ab",
   "metadata": {},
   "outputs": [
    {
     "data": {
      "text/plain": [
       "1      1\n",
       "2      2\n",
       "3      3\n",
       "4      4\n",
       "5      5\n",
       "6      6\n",
       "7      7\n",
       "8      8\n",
       "9      9\n",
       "10    10\n",
       "dtype: int64"
      ]
     },
     "execution_count": 10,
     "metadata": {},
     "output_type": "execute_result"
    }
   ],
   "source": [
    "# frame in en küçük değeri sutunlara göre\n",
    "frame.min()"
   ]
  },
  {
   "cell_type": "code",
   "execution_count": 11,
   "id": "b91b2317",
   "metadata": {},
   "outputs": [
    {
     "data": {
      "text/plain": [
       "1"
      ]
     },
     "execution_count": 11,
     "metadata": {},
     "output_type": "execute_result"
    }
   ],
   "source": [
    "# bütün data frame nin en küçük değeri\n",
    "frame.min().min()"
   ]
  },
  {
   "cell_type": "code",
   "execution_count": 12,
   "id": "c7f687ea",
   "metadata": {},
   "outputs": [
    {
     "data": {
      "text/plain": [
       "1      55\n",
       "2     110\n",
       "3     165\n",
       "4     220\n",
       "5     275\n",
       "6     330\n",
       "7     385\n",
       "8     440\n",
       "9     495\n",
       "10    550\n",
       "dtype: int64"
      ]
     },
     "execution_count": 12,
     "metadata": {},
     "output_type": "execute_result"
    }
   ],
   "source": [
    "# frame in sütunların toplam değerleri\n",
    "frame.sum()"
   ]
  },
  {
   "cell_type": "code",
   "execution_count": 13,
   "id": "c925eaa6",
   "metadata": {},
   "outputs": [
    {
     "data": {
      "text/plain": [
       "3025"
      ]
     },
     "execution_count": 13,
     "metadata": {},
     "output_type": "execute_result"
    }
   ],
   "source": [
    "# bütün data frame nin toplamı\n",
    "frame.sum().sum()"
   ]
  },
  {
   "cell_type": "code",
   "execution_count": 14,
   "id": "5e98af54",
   "metadata": {},
   "outputs": [
    {
     "data": {
      "text/plain": [
       "1      5.5\n",
       "2     11.0\n",
       "3     16.5\n",
       "4     22.0\n",
       "5     27.5\n",
       "6     33.0\n",
       "7     38.5\n",
       "8     44.0\n",
       "9     49.5\n",
       "10    55.0\n",
       "dtype: float64"
      ]
     },
     "execution_count": 14,
     "metadata": {},
     "output_type": "execute_result"
    }
   ],
   "source": [
    "# her sütunun ortalama değeri\n",
    "frame.mean()"
   ]
  },
  {
   "cell_type": "code",
   "execution_count": 15,
   "id": "9f6d789f",
   "metadata": {},
   "outputs": [
    {
     "data": {
      "text/plain": [
       "30.25"
      ]
     },
     "execution_count": 15,
     "metadata": {},
     "output_type": "execute_result"
    }
   ],
   "source": [
    "# fram# bütün data frame in ortalama değeri\n",
    "frame.mean().mean()"
   ]
  },
  {
   "cell_type": "code",
   "execution_count": null,
   "id": "12ac6719",
   "metadata": {},
   "outputs": [],
   "source": []
  }
 ],
 "metadata": {
  "kernelspec": {
   "display_name": "Python 3 (ipykernel)",
   "language": "python",
   "name": "python3"
  },
  "language_info": {
   "codemirror_mode": {
    "name": "ipython",
    "version": 3
   },
   "file_extension": ".py",
   "mimetype": "text/x-python",
   "name": "python",
   "nbconvert_exporter": "python",
   "pygments_lexer": "ipython3",
   "version": "3.10.7"
  }
 },
 "nbformat": 4,
 "nbformat_minor": 5
}
