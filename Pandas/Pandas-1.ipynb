{
 "cells": [
  {
   "cell_type": "code",
   "execution_count": 32,
   "id": "091243ff",
   "metadata": {},
   "outputs": [],
   "source": [
    "import pandas as pd\n",
    "import numpy as np"
   ]
  },
  {
   "cell_type": "code",
   "execution_count": 33,
   "id": "31161a9e",
   "metadata": {},
   "outputs": [
    {
     "name": "stdout",
     "output_type": "stream",
     "text": [
      "0    0\n",
      "dtype: int64\n"
     ]
    }
   ],
   "source": [
    "pd_seria = pd.Series(0) # bir pandas serisi oluşturma\n",
    "print(pd_seria)"
   ]
  },
  {
   "cell_type": "code",
   "execution_count": 34,
   "id": "aa4249c1",
   "metadata": {},
   "outputs": [
    {
     "data": {
      "text/plain": [
       "0    10\n",
       "1    20\n",
       "2    30\n",
       "3    40\n",
       "4    50\n",
       "dtype: int64"
      ]
     },
     "execution_count": 34,
     "metadata": {},
     "output_type": "execute_result"
    }
   ],
   "source": [
    "numbers = list([10,20,30,40,50])\n",
    "\n",
    "pd_seria = pd.Series(numbers) # bir pandas serisi oluşturma yukaridaki karakterlere göre\n",
    "pd_seria"
   ]
  },
  {
   "cell_type": "code",
   "execution_count": 35,
   "id": "ed96cf72",
   "metadata": {},
   "outputs": [
    {
     "data": {
      "text/plain": [
       "0    a\n",
       "1    b\n",
       "2    c\n",
       "3    d\n",
       "dtype: object"
      ]
     },
     "execution_count": 35,
     "metadata": {},
     "output_type": "execute_result"
    }
   ],
   "source": [
    "letters = list([\"a\",\"b\",\"c\",\"d\"])\n",
    "\n",
    "pd_seria = pd.Series(letters) # bir pandas serisi oluşturma yukaridaki karakterlere göre\n",
    "pd_seria"
   ]
  },
  {
   "cell_type": "code",
   "execution_count": 36,
   "id": "53dae8d3",
   "metadata": {},
   "outputs": [
    {
     "data": {
      "text/plain": [
       "1    5\n",
       "2    5\n",
       "3    5\n",
       "dtype: int64"
      ]
     },
     "execution_count": 36,
     "metadata": {},
     "output_type": "execute_result"
    }
   ],
   "source": [
    "pd_seria = pd.Series(5, [1,2,3]) # bir pandas serisi oluşturma kendi verilerimize göre\n",
    "pd_seria"
   ]
  },
  {
   "cell_type": "code",
   "execution_count": 37,
   "id": "36b65cae",
   "metadata": {},
   "outputs": [
    {
     "data": {
      "text/plain": [
       "1    10\n",
       "2    20\n",
       "3    30\n",
       "4    40\n",
       "5    50\n",
       "dtype: int64"
      ]
     },
     "execution_count": 37,
     "metadata": {},
     "output_type": "execute_result"
    }
   ],
   "source": [
    "pd_seria = pd.Series(numbers, [1,2,3,4,5]) # bir pandas serisi oluşturma kendi verilerimize göre !verilen sıra ile liste uzunluğu aynı olmak zorundadır\n",
    "pd_seria"
   ]
  },
  {
   "cell_type": "code",
   "execution_count": 38,
   "id": "967d2bbb",
   "metadata": {},
   "outputs": [
    {
     "data": {
      "text/plain": [
       "a    10\n",
       "b    20\n",
       "c    30\n",
       "d    40\n",
       "e    50\n",
       "dtype: int64"
      ]
     },
     "execution_count": 38,
     "metadata": {},
     "output_type": "execute_result"
    }
   ],
   "source": [
    "pd_seria = pd.Series(numbers, [\"a\",\"b\",\"c\",\"d\",\"e\"]) # indexleri verdiğimiz diziye göre oluşturulan seri\n",
    "pd_seria"
   ]
  },
  {
   "cell_type": "code",
   "execution_count": 39,
   "id": "0759298c",
   "metadata": {},
   "outputs": [
    {
     "data": {
      "text/plain": [
       "A    10\n",
       "B    20\n",
       "C    30\n",
       "dtype: int64"
      ]
     },
     "execution_count": 39,
     "metadata": {},
     "output_type": "execute_result"
    }
   ],
   "source": [
    "dicts = {\"A\":10,\"B\":20,\"C\":30}\n",
    "\n",
    "pd_seria = pd.Series(dicts) \n",
    "\n",
    "pd_seria"
   ]
  },
  {
   "cell_type": "code",
   "execution_count": 40,
   "id": "62baa305",
   "metadata": {},
   "outputs": [
    {
     "data": {
      "text/plain": [
       "0    62\n",
       "1    14\n",
       "2    26\n",
       "3    92\n",
       "4    60\n",
       "5    52\n",
       "dtype: int32"
      ]
     },
     "execution_count": 40,
     "metadata": {},
     "output_type": "execute_result"
    }
   ],
   "source": [
    "random_numbers = np.random.randint(10,100,6)\n",
    "\n",
    "pd_seria = pd.Series(random_numbers) \n",
    "pd_seria"
   ]
  },
  {
   "cell_type": "code",
   "execution_count": 42,
   "id": "51692a1b",
   "metadata": {
    "slideshow": {
     "slide_type": "slide"
    }
   },
   "outputs": [
    {
     "name": "stdout",
     "output_type": "stream",
     "text": [
      "Serinin 1. elemanı 0. indexsi  62\n",
      "\n",
      "Serinin 2 ile 5. arasındaki elemanlar \n",
      " 1    14\n",
      "2    26\n",
      "3    92\n",
      "4    60\n",
      "dtype: int32\n",
      "\n",
      "Serinin 3. elemandan sonraki elemanları \n",
      " 3    92\n",
      "4    60\n",
      "5    52\n",
      "dtype: int32\n",
      "\n",
      "Serinin 3. elemandan önceki elemanları \n",
      " 0    62\n",
      "1    14\n",
      "2    26\n",
      "dtype: int32\n",
      "\n",
      "Serinin bütün elemanları ters şekilde \n",
      " 5    52\n",
      "4    60\n",
      "3    92\n",
      "2    26\n",
      "1    14\n",
      "0    62\n",
      "dtype: int32\n",
      "\n",
      "Serinin çift indexlerindeki elemanları => \n",
      " 0    62\n",
      "2    26\n",
      "4    60\n",
      "dtype: int32\n",
      "\n",
      "Serinin tek indexlerindeki elemanları => \n",
      " 1    14\n",
      "3    92\n",
      "5    52\n",
      "dtype: int32\n",
      "\n",
      "Serinin bütün elemanları \n",
      " 0    62\n",
      "1    14\n",
      "2    26\n",
      "3    92\n",
      "4    60\n",
      "5    52\n",
      "dtype: int32\n"
     ]
    }
   ],
   "source": [
    "print(\"Serinin 1. elemanı 0. indexsi \",pd_seria[0])\n",
    "#print(\"\\nSerinin son elemanı -1. indexsi \",pd_seria[-1])\n",
    "print(\"\\nSerinin 2 ile 5. arasındaki elemanlar \\n\",pd_seria[1:5])\n",
    "print(\"\\nSerinin 3. elemandan sonraki elemanları \\n\",pd_seria[3:])\n",
    "print(\"\\nSerinin 3. elemandan önceki elemanları \\n\",pd_seria[:3])\n",
    "print(\"\\nSerinin bütün elemanları ters şekilde \\n\",pd_seria[::-1])\n",
    "print(\"\\nSerinin çift indexlerindeki elemanları => \\n\", pd_seria[::2])\n",
    "print(\"\\nSerinin tek indexlerindeki elemanları => \\n\", pd_seria[1::2])\n",
    "print(\"\\nSerinin bütün elemanları \\n\",pd_seria[::])\n"
   ]
  },
  {
   "cell_type": "code",
   "execution_count": 44,
   "id": "585b2e12",
   "metadata": {
    "slideshow": {
     "slide_type": "slide"
    }
   },
   "outputs": [
    {
     "data": {
      "text/plain": [
       "a    84\n",
       "b    65\n",
       "c    82\n",
       "d    20\n",
       "e    36\n",
       "f    52\n",
       "dtype: int32"
      ]
     },
     "execution_count": 44,
     "metadata": {},
     "output_type": "execute_result"
    }
   ],
   "source": [
    "random_numbers = np.random.randint(10,100,6)\n",
    "\n",
    "pd_seria = pd.Series(random_numbers,[\"a\",\"b\",\"c\",\"d\",\"e\",\"f\"]) \n",
    "pd_seria"
   ]
  },
  {
   "cell_type": "code",
   "execution_count": 47,
   "id": "abb7e5e1",
   "metadata": {},
   "outputs": [
    {
     "name": "stdout",
     "output_type": "stream",
     "text": [
      "Serinin 1. elemanı 0. indexsi  84\n",
      "\n",
      "Serinin 2 ile 5. arasındaki elemanlar \n",
      " b    65\n",
      "c    82\n",
      "d    20\n",
      "e    36\n",
      "dtype: int32\n",
      "\n",
      "Serinin 3. elemandan sonraki elemanları \n",
      " d    20\n",
      "e    36\n",
      "f    52\n",
      "dtype: int32\n",
      "\n",
      "Serinin 3. elemandan önceki elemanları \n",
      " a    84\n",
      "b    65\n",
      "c    82\n",
      "dtype: int32\n",
      "\n",
      "Serinin bütün elemanları ters şekilde \n",
      " f    52\n",
      "e    36\n",
      "d    20\n",
      "c    82\n",
      "b    65\n",
      "a    84\n",
      "dtype: int32\n",
      "\n",
      "Serinin bütün elemanları \n",
      " a    84\n",
      "b    65\n",
      "c    82\n",
      "d    20\n",
      "e    36\n",
      "f    52\n",
      "dtype: int32\n",
      "Serinin a elemanı  84\n",
      "\n",
      "Serinin a ile d. arasındaki elemanlar \n",
      " a    84\n",
      "b    65\n",
      "c    82\n",
      "d    20\n",
      "dtype: int32\n",
      "\n",
      "Serinin c elemandan sonraki elemanları \n",
      " c    82\n",
      "d    20\n",
      "e    36\n",
      "f    52\n",
      "dtype: int32\n",
      "\n",
      "Serinin c elemandan önceki elemanları \n",
      " a    84\n",
      "b    65\n",
      "c    82\n",
      "dtype: int32\n",
      "\n",
      "Serinin bütün elemanları ters şekilde \n",
      " Series([], dtype: int32)\n"
     ]
    }
   ],
   "source": [
    "print(\"Serinin 1. elemanı 0. indexsi \",pd_seria[0])\n",
    "print(\"\\nSerinin 2 ile 5. arasındaki elemanlar \\n\",pd_seria[1:5])\n",
    "print(\"\\nSerinin 3. elemandan sonraki elemanları \\n\",pd_seria[3:])\n",
    "print(\"\\nSerinin 3. elemandan önceki elemanları \\n\",pd_seria[:3])\n",
    "print(\"\\nSerinin bütün elemanları ters şekilde \\n\",pd_seria[::-1])\n",
    "print(\"\\nSerinin bütün elemanları \\n\",pd_seria[::])\n",
    "\n",
    "print(\"Serinin a elemanı \",pd_seria[\"a\"])\n",
    "print(\"\\nSerinin a ile d. arasındaki elemanlar \\n\",pd_seria[\"a\":\"d\"])\n",
    "print(\"\\nSerinin c elemandan sonraki elemanları \\n\",pd_seria[\"c\":])\n",
    "print(\"\\nSerinin c elemandan önceki elemanları \\n\",pd_seria[:\"c\"])\n",
    "print(\"\\nSerinin bütün elemanları ters şekilde \\n\",pd_seria[\"f\":\"a\":-1])\n"
   ]
  }
 ],
 "metadata": {
  "kernelspec": {
   "display_name": "Python 3 (ipykernel)",
   "language": "python",
   "name": "python3"
  },
  "language_info": {
   "codemirror_mode": {
    "name": "ipython",
    "version": 3
   },
   "file_extension": ".py",
   "mimetype": "text/x-python",
   "name": "python",
   "nbconvert_exporter": "python",
   "pygments_lexer": "ipython3",
   "version": "3.10.7"
  }
 },
 "nbformat": 4,
 "nbformat_minor": 5
}
