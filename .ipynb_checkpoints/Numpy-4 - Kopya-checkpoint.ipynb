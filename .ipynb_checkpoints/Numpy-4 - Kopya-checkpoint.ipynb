{
 "cells": [
  {
   "cell_type": "code",
   "execution_count": 1,
   "id": "d24bab4d",
   "metadata": {},
   "outputs": [],
   "source": [
    "import numpy as np"
   ]
  },
  {
   "cell_type": "code",
   "execution_count": 2,
   "id": "04c697dd",
   "metadata": {},
   "outputs": [
    {
     "name": "stdout",
     "output_type": "stream",
     "text": [
      "[-14 -11  40 -49 -41  49 -49  -7] \n",
      "\n",
      "[-16  27  23 -45   3  29 -42  18]\n"
     ]
    }
   ],
   "source": [
    "arr1 = np.random.randint(-50,50,8)\n",
    "arr2 = np.random.randint(-50,50,8)\n",
    "print(arr1,\"\\n\")\n",
    "print(arr2)"
   ]
  },
  {
   "cell_type": "code",
   "execution_count": 3,
   "id": "c120d206",
   "metadata": {},
   "outputs": [
    {
     "name": "stdout",
     "output_type": "stream",
     "text": [
      "[-30  16  63 -94 -38  78 -91  11] \n",
      "\n",
      "[  2 -38  17  -4 -44  20  -7 -25] \n",
      "\n",
      "[ -4  -1  50 -39 -31  59 -39   3] \n",
      "\n",
      "[ 224 -297  920 2205 -123 1421 2058 -126] \n",
      "\n",
      "[-140 -110  400 -490 -410  490 -490  -70] \n",
      "\n",
      "[  0.875       -0.40740741   1.73913043   1.08888889 -13.66666667\n",
      "   1.68965517   1.16666667  -0.38888889] \n",
      "\n",
      "[-1.4 -1.1  4.  -4.9 -4.1  4.9 -4.9 -0.7] \n",
      "\n"
     ]
    }
   ],
   "source": [
    "# numpy ile matematik işlemleri + - * /\n",
    "print(arr1 + arr2,\"\\n\")\n",
    "print(arr1 - arr2,\"\\n\")\n",
    "print(arr1 + 10,\"\\n\")\n",
    "print(arr1 * arr2,\"\\n\")\n",
    "print(arr1 * 10,\"\\n\")\n",
    "print(arr1 / arr2,\"\\n\")\n",
    "print(arr1 / 10,\"\\n\")\n",
    "\n"
   ]
  },
  {
   "cell_type": "code",
   "execution_count": 4,
   "id": "5cd84fa8",
   "metadata": {},
   "outputs": [
    {
     "name": "stdout",
     "output_type": "stream",
     "text": [
      "[-0.99060736  0.99999021  0.74511316  0.95375265  0.15862267 -0.95375265\n",
      "  0.95375265 -0.6569866 ] \n",
      "\n",
      "[ 0.13673722  0.0044257  -0.66693806  0.30059254 -0.98733928  0.30059254\n",
      "  0.30059254  0.75390225] \n",
      "\n",
      "[14 11 40 49 41 49 49  7] \n",
      "\n",
      "[3.74165739 3.31662479 6.32455532 7.         6.40312424 7.\n",
      " 7.         2.64575131] \n",
      "\n",
      "[2.63905733 2.39789527 3.68887945 3.8918203  3.71357207 3.8918203\n",
      " 3.8918203  1.94591015] \n",
      "\n",
      "[ 196  121 1600 2401 1681 2401 2401   49] \n",
      "\n"
     ]
    }
   ],
   "source": [
    "# numpy ile ileri matematik işlemleri (cos tan kökalma power üs alma gibi matematiksel işlemler)\n",
    "\n",
    "print(np.sin(arr1),\"\\n\")\n",
    "print(np.cos(arr1),\"\\n\")\n",
    "print(np.abs(arr1),\"\\n\")\n",
    "print(np.sqrt(np.abs(arr1)),\"\\n\") \n",
    "print(np.log(np.abs(arr1)),\"\\n\")\n",
    "print(np.power(arr1,2),\"\\n\")\n"
   ]
  },
  {
   "cell_type": "code",
   "execution_count": 5,
   "id": "f6a66fb8",
   "metadata": {},
   "outputs": [
    {
     "name": "stdout",
     "output_type": "stream",
     "text": [
      "[-14 -11  40 -49 -41  49 -49  -7] \n",
      "\n",
      "[-16  27  23 -45   3  29 -42  18] \n",
      "\n",
      "2 diziyi yatay olarak birleştirme işlemi \n",
      " [-14 -11  40 -49 -41  49 -49  -7 -16  27  23 -45   3  29 -42  18] \n",
      "\n",
      "2 diziyi dikey olarak birleştirme işlemi \n",
      " [[-14 -11  40 -49 -41  49 -49  -7]\n",
      " [-16  27  23 -45   3  29 -42  18]] \n",
      "\n",
      "2 diziyi yatay olarak birleştirme işlemi \n",
      " [-14 -11  40 -49 -41  49 -49  -7 -16  27  23 -45   3  29 -42  18]\n",
      "2 diziyi karşılık gelen sütunları ile birleştirme işlemi \n",
      " [[-14 -16]\n",
      " [-11  27]\n",
      " [ 40  23]\n",
      " [-49 -45]\n",
      " [-41   3]\n",
      " [ 49  29]\n",
      " [-49 -42]\n",
      " [ -7  18]]\n"
     ]
    }
   ],
   "source": [
    "print(arr1,\"\\n\")\n",
    "print(arr2,\"\\n\")\n",
    "#print(\"2 diziyi dikey olarak birleştirme işlemi \\n\",np.concatenate((arr1, arr2),axis=1),\"\\n\")\n",
    "print(\"2 diziyi yatay olarak birleştirme işlemi \\n\",np.concatenate((arr1, arr2)),\"\\n\")\n",
    "print(\"2 diziyi dikey olarak birleştirme işlemi \\n\",np.vstack((arr1,arr2)),\"\\n\")\n",
    "print(\"2 diziyi yatay olarak birleştirme işlemi \\n\",np.hstack((arr1,arr2)))\n",
    "\n",
    "print(\"2 diziyi karşılık gelen sütunları ile birleştirme işlemi \\n\",np.stack((arr1, arr2), axis=1))\n"
   ]
  },
  {
   "cell_type": "markdown",
   "id": "a2f3fc9f",
   "metadata": {},
   "source": [
    "## "
   ]
  },
  {
   "cell_type": "code",
   "execution_count": 6,
   "id": "4d138bf0",
   "metadata": {},
   "outputs": [
    {
     "data": {
      "text/plain": [
       "array([[-12,  -7,   2,  10,  19],\n",
       "       [-19, -18, -11,   0,  19],\n",
       "       [ -8,  -6,  -5,   5,  15]])"
      ]
     },
     "execution_count": 6,
     "metadata": {},
     "output_type": "execute_result"
    }
   ],
   "source": [
    "newarray = np.array([np.random.randint(-20,20,5),np.random.randint(-20,20,5),np.random.randint(-20,20,5)])\n",
    "newarray.sort() # diziyi sıralayı o şekilde bastırdık\n",
    "newarray"
   ]
  },
  {
   "cell_type": "code",
   "execution_count": 7,
   "id": "d4727110",
   "metadata": {},
   "outputs": [
    {
     "data": {
      "text/plain": [
       "array([[False, False,  True,  True,  True],\n",
       "       [False, False, False, False,  True],\n",
       "       [False, False, False,  True,  True]])"
      ]
     },
     "execution_count": 7,
     "metadata": {},
     "output_type": "execute_result"
    }
   ],
   "source": [
    "sonuc = newarray > 0 # dizinin içerisindekilerinin 0 dan büyük olanlarını tespit etme\n",
    "sonuc"
   ]
  },
  {
   "cell_type": "code",
   "execution_count": 8,
   "id": "03c7fce9",
   "metadata": {},
   "outputs": [
    {
     "data": {
      "text/plain": [
       "array([ 2, 10, 19, 19,  5, 15])"
      ]
     },
     "execution_count": 8,
     "metadata": {},
     "output_type": "execute_result"
    }
   ],
   "source": [
    "newarray[newarray > 0] # ve 0 dan büyük olan elemanlar"
   ]
  },
  {
   "cell_type": "code",
   "execution_count": 9,
   "id": "1893ad12",
   "metadata": {},
   "outputs": [
    {
     "data": {
      "text/plain": [
       "array([-12,   2,  10, -18,   0,  -8,  -6])"
      ]
     },
     "execution_count": 9,
     "metadata": {},
     "output_type": "execute_result"
    }
   ],
   "source": [
    "newarray[newarray % 2 == 0] # dizi içerisinde 2 ye tam bölünenler yani çift olanlar"
   ]
  },
  {
   "cell_type": "code",
   "execution_count": null,
   "id": "2e9d21a8",
   "metadata": {},
   "outputs": [],
   "source": []
  }
 ],
 "metadata": {
  "kernelspec": {
   "display_name": "Python 3 (ipykernel)",
   "language": "python",
   "name": "python3"
  },
  "language_info": {
   "codemirror_mode": {
    "name": "ipython",
    "version": 3
   },
   "file_extension": ".py",
   "mimetype": "text/x-python",
   "name": "python",
   "nbconvert_exporter": "python",
   "pygments_lexer": "ipython3",
   "version": "3.9.13"
  }
 },
 "nbformat": 4,
 "nbformat_minor": 5
}
