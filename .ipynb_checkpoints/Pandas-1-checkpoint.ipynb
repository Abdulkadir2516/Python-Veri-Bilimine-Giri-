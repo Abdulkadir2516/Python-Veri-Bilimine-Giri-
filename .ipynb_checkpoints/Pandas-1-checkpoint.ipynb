{
 "cells": [
  {
   "cell_type": "code",
   "execution_count": 1,
   "id": "091243ff",
   "metadata": {},
   "outputs": [],
   "source": [
    "import pandas as pd\n",
    "import numpy as np"
   ]
  },
  {
   "cell_type": "code",
   "execution_count": 2,
   "id": "31161a9e",
   "metadata": {},
   "outputs": [
    {
     "name": "stdout",
     "output_type": "stream",
     "text": [
      "0    0\n",
      "dtype: int64\n"
     ]
    }
   ],
   "source": [
    "pd_seria = pd.Series(0) # bir pandas serisi oluşturma\n",
    "print(pd_seria)"
   ]
  },
  {
   "cell_type": "code",
   "execution_count": 3,
   "id": "aa4249c1",
   "metadata": {},
   "outputs": [
    {
     "data": {
      "text/plain": [
       "0    10\n",
       "1    20\n",
       "2    30\n",
       "3    40\n",
       "4    50\n",
       "dtype: int64"
      ]
     },
     "execution_count": 3,
     "metadata": {},
     "output_type": "execute_result"
    }
   ],
   "source": [
    "numbers = list([10,20,30,40,50])\n",
    "\n",
    "pd_seria = pd.Series(numbers) # bir pandas serisi oluşturma yukaridaki karakterlere göre\n",
    "pd_seria"
   ]
  },
  {
   "cell_type": "code",
   "execution_count": 4,
   "id": "ed96cf72",
   "metadata": {},
   "outputs": [
    {
     "data": {
      "text/plain": [
       "0    a\n",
       "1    b\n",
       "2    c\n",
       "3    d\n",
       "dtype: object"
      ]
     },
     "execution_count": 4,
     "metadata": {},
     "output_type": "execute_result"
    }
   ],
   "source": [
    "letters = list([\"a\",\"b\",\"c\",\"d\"])\n",
    "\n",
    "pd_seria = pd.Series(letters) # bir pandas serisi oluşturma yukaridaki karakterlere göre\n",
    "pd_seria"
   ]
  },
  {
   "cell_type": "code",
   "execution_count": 5,
   "id": "53dae8d3",
   "metadata": {},
   "outputs": [
    {
     "data": {
      "text/plain": [
       "1    5\n",
       "2    5\n",
       "3    5\n",
       "dtype: int64"
      ]
     },
     "execution_count": 5,
     "metadata": {},
     "output_type": "execute_result"
    }
   ],
   "source": [
    "pd_seria = pd.Series(5, [1,2,3]) # bir pandas serisi oluşturma kendi verilerimize göre\n",
    "pd_seria"
   ]
  },
  {
   "cell_type": "code",
   "execution_count": 6,
   "id": "36b65cae",
   "metadata": {},
   "outputs": [
    {
     "data": {
      "text/plain": [
       "1    10\n",
       "2    20\n",
       "3    30\n",
       "4    40\n",
       "5    50\n",
       "dtype: int64"
      ]
     },
     "execution_count": 6,
     "metadata": {},
     "output_type": "execute_result"
    }
   ],
   "source": [
    "pd_seria = pd.Series(numbers, [1,2,3,4,5]) # bir pandas serisi oluşturma kendi verilerimize göre !verilen sıra ile liste uzunluğu aynı olmak zorundadır\n",
    "pd_seria"
   ]
  },
  {
   "cell_type": "code",
   "execution_count": 7,
   "id": "967d2bbb",
   "metadata": {},
   "outputs": [
    {
     "data": {
      "text/plain": [
       "a    10\n",
       "b    20\n",
       "c    30\n",
       "d    40\n",
       "e    50\n",
       "dtype: int64"
      ]
     },
     "execution_count": 7,
     "metadata": {},
     "output_type": "execute_result"
    }
   ],
   "source": [
    "pd_seria = pd.Series(numbers, [\"a\",\"b\",\"c\",\"d\",\"e\"]) \n",
    "pd_seria"
   ]
  },
  {
   "cell_type": "code",
   "execution_count": 8,
   "id": "0759298c",
   "metadata": {},
   "outputs": [
    {
     "data": {
      "text/plain": [
       "A    10\n",
       "B    20\n",
       "C    30\n",
       "dtype: int64"
      ]
     },
     "execution_count": 8,
     "metadata": {},
     "output_type": "execute_result"
    }
   ],
   "source": [
    "dicts = {\"A\":10,\"B\":20,\"C\":30}\n",
    "\n",
    "pd_seria = pd.Series(dicts) \n",
    "pd_seria"
   ]
  },
  {
   "cell_type": "code",
   "execution_count": 11,
   "id": "62baa305",
   "metadata": {},
   "outputs": [
    {
     "data": {
      "text/plain": [
       "0    17\n",
       "1    42\n",
       "2    88\n",
       "3    76\n",
       "4    75\n",
       "5    12\n",
       "dtype: int32"
      ]
     },
     "execution_count": 11,
     "metadata": {},
     "output_type": "execute_result"
    }
   ],
   "source": [
    "random_numbers = np.random.randint(10,100,6)\n",
    "\n",
    "pd_seria = pd.Series(random_numbers) \n",
    "pd_seria"
   ]
  },
  {
   "cell_type": "code",
   "execution_count": 10,
   "id": "51692a1b",
   "metadata": {
    "slideshow": {
     "slide_type": "slide"
    }
   },
   "outputs": [
    {
     "name": "stdout",
     "output_type": "stream",
     "text": [
      "Serinin 1. elemanı 0. indexsi  28\n",
      "\n",
      "Serinin son elemanı -1. indexsi  10\n",
      "\n",
      "Serinin 2 ile 5. arasındaki elemanlar \n",
      " 1    10\n",
      "2    27\n",
      "3    88\n",
      "4    51\n",
      "dtype: int32\n",
      "\n",
      "Serinin 3. elemandan sonraki elemanları \n",
      " 3    88\n",
      "4    51\n",
      "5    68\n",
      "dtype: int32\n",
      "\n",
      "Serinin 3. elemandan önceki elemanları \n",
      " 0    28\n",
      "1    10\n",
      "2    27\n",
      "dtype: int32\n",
      "\n",
      "Serinin bütün elemanları ters şekilde \n",
      " 5    68\n",
      "4    51\n",
      "3    88\n",
      "2    27\n",
      "1    10\n",
      "0    28\n",
      "dtype: int32\n",
      "\n",
      "Serinin bütün elemanları \n",
      " 0    28\n",
      "1    10\n",
      "2    27\n",
      "3    88\n",
      "4    51\n",
      "5    68\n",
      "dtype: int32\n"
     ]
    }
   ],
   "source": [
    "print(\"Serinin 1. elemanı 0. indexsi \",pd_seria[0])\n",
    "#print(\"\\nSerinin son elemanı -1. indexsi \",pd_seria[-1])\n",
    "print(\"\\nSerinin 2 ile 5. arasındaki elemanlar \\n\",pd_seria[1:5])\n",
    "print(\"\\nSerinin 3. elemandan sonraki elemanları \\n\",pd_seria[3:])\n",
    "print(\"\\nSerinin 3. elemandan önceki elemanları \\n\",pd_seria[:3])\n",
    "print(\"\\nSerinin bütün elemanları ters şekilde \\n\",pd_seria[::-1])\n",
    "print(\"\\nSerinin bütün elemanları \\n\",pd_seria[::])\n"
   ]
  },
  {
   "cell_type": "code",
   "execution_count": 13,
   "id": "585b2e12",
   "metadata": {
    "slideshow": {
     "slide_type": "slide"
    }
   },
   "outputs": [
    {
     "data": {
      "text/plain": [
       "a    90\n",
       "b    18\n",
       "c    65\n",
       "d    20\n",
       "e    88\n",
       "f    52\n",
       "dtype: int32"
      ]
     },
     "execution_count": 13,
     "metadata": {},
     "output_type": "execute_result"
    }
   ],
   "source": [
    "random_numbers = np.random.randint(10,100,6)\n",
    "\n",
    "pd_seria = pd.Series(random_numbers,[\"a\",\"b\",\"c\",\"d\",\"e\",\"f\"]) \n",
    "pd_seria"
   ]
  },
  {
   "cell_type": "code",
   "execution_count": 25,
   "id": "abb7e5e1",
   "metadata": {},
   "outputs": [
    {
     "name": "stdout",
     "output_type": "stream",
     "text": [
      "Serinin 1. elemanı 0. indexsi  90\n",
      "\n",
      "Serinin 2 ile 5. arasındaki elemanlar \n",
      " b    18\n",
      "c    65\n",
      "d    20\n",
      "e    88\n",
      "dtype: int32\n",
      "\n",
      "Serinin 3. elemandan sonraki elemanları \n",
      " d    20\n",
      "e    88\n",
      "f    52\n",
      "dtype: int32\n",
      "\n",
      "Serinin 3. elemandan önceki elemanları \n",
      " a    90\n",
      "b    18\n",
      "c    65\n",
      "dtype: int32\n",
      "\n",
      "Serinin bütün elemanları ters şekilde \n",
      " f    52\n",
      "e    88\n",
      "d    20\n",
      "c    65\n",
      "b    18\n",
      "a    90\n",
      "dtype: int32\n",
      "\n",
      "Serinin bütün elemanları \n",
      " a    90\n",
      "b    18\n",
      "c    65\n",
      "d    20\n",
      "e    88\n",
      "f    52\n",
      "dtype: int32\n",
      "Serinin a elemanı  90\n",
      "\n",
      "Serinin a ile d. arasındaki elemanlar \n",
      " a    90\n",
      "b    18\n",
      "c    65\n",
      "d    20\n",
      "dtype: int32\n",
      "\n",
      "Serinin c elemandan sonraki elemanları \n",
      " c    65\n",
      "d    20\n",
      "e    88\n",
      "f    52\n",
      "dtype: int32\n",
      "\n",
      "Serinin c elemandan önceki elemanları \n",
      " a    90\n",
      "b    18\n",
      "c    65\n",
      "dtype: int32\n",
      "\n",
      "Serinin bütün elemanları ters şekilde \n",
      " f    52\n",
      "e    88\n",
      "d    20\n",
      "c    65\n",
      "b    18\n",
      "a    90\n",
      "dtype: int32\n"
     ]
    }
   ],
   "source": [
    "print(\"Serinin 1. elemanı 0. indexsi \",pd_seria[0])\n",
    "print(\"\\nSerinin 2 ile 5. arasındaki elemanlar \\n\",pd_seria[1:5])\n",
    "print(\"\\nSerinin 3. elemandan sonraki elemanları \\n\",pd_seria[3:])\n",
    "print(\"\\nSerinin 3. elemandan önceki elemanları \\n\",pd_seria[:3])\n",
    "print(\"\\nSerinin bütün elemanları ters şekilde \\n\",pd_seria[::-1])\n",
    "print(\"\\nSerinin bütün elemanları \\n\",pd_seria[::])\n",
    "\n",
    "print(\"Serinin a elemanı \",pd_seria[\"a\"])\n",
    "print(\"\\nSerinin a ile d. arasındaki elemanlar \\n\",pd_seria[\"a\":\"d\"])\n",
    "print(\"\\nSerinin c elemandan sonraki elemanları \\n\",pd_seria[\"c\":])\n",
    "print(\"\\nSerinin c elemandan önceki elemanları \\n\",pd_seria[:\"c\"])\n",
    "print(\"\\nSerinin bütün elemanları ters şekilde \\n\",pd_seria[\"f\":\"a\":-1])\n"
   ]
  }
 ],
 "metadata": {
  "kernelspec": {
   "display_name": "Python 3 (ipykernel)",
   "language": "python",
   "name": "python3"
  },
  "language_info": {
   "codemirror_mode": {
    "name": "ipython",
    "version": 3
   },
   "file_extension": ".py",
   "mimetype": "text/x-python",
   "name": "python",
   "nbconvert_exporter": "python",
   "pygments_lexer": "ipython3",
   "version": "3.10.7"
  }
 },
 "nbformat": 4,
 "nbformat_minor": 5
}
