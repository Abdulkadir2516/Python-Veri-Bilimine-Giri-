{
 "cells": [
  {
   "cell_type": "code",
   "execution_count": 22,
   "id": "c8cb3834",
   "metadata": {},
   "outputs": [],
   "source": [
    "import pandas as pd\n",
    "import numpy as np"
   ]
  },
  {
   "cell_type": "code",
   "execution_count": 40,
   "id": "fd9911e9",
   "metadata": {},
   "outputs": [
    {
     "data": {
      "text/plain": [
       "1    -4\n",
       "2   -35\n",
       "3   -46\n",
       "4   -32\n",
       "5    35\n",
       "dtype: int32"
      ]
     },
     "execution_count": 40,
     "metadata": {},
     "output_type": "execute_result"
    }
   ],
   "source": [
    "arr = np.random.randint(-50,50,5) # -50 ile 50 arasında rastgele 5 tane sayıdan oluşan dizi oluştur\n",
    "seria = pd.Series(arr,index=[1,2,3,4,5]) # arr dizisine göre seri tanımlama\n",
    "seria"
   ]
  },
  {
   "cell_type": "code",
   "execution_count": 24,
   "id": "f6003481",
   "metadata": {},
   "outputs": [
    {
     "data": {
      "text/plain": [
       "1"
      ]
     },
     "execution_count": 24,
     "metadata": {},
     "output_type": "execute_result"
    }
   ],
   "source": [
    "seria.ndim # serinin boyutu"
   ]
  },
  {
   "cell_type": "code",
   "execution_count": 25,
   "id": "a41b7b75",
   "metadata": {},
   "outputs": [
    {
     "data": {
      "text/plain": [
       "dtype('int32')"
      ]
     },
     "execution_count": 25,
     "metadata": {},
     "output_type": "execute_result"
    }
   ],
   "source": [
    "seria.dtype # serinin veri tipi int,float,str,object vb."
   ]
  },
  {
   "cell_type": "code",
   "execution_count": 26,
   "id": "6f8438fb",
   "metadata": {},
   "outputs": [
    {
     "data": {
      "text/plain": [
       "(5,)"
      ]
     },
     "execution_count": 26,
     "metadata": {},
     "output_type": "execute_result"
    }
   ],
   "source": [
    "seria.shape # serinin şekli framelerde daha yrıntılı incelenecek"
   ]
  },
  {
   "cell_type": "code",
   "execution_count": 27,
   "id": "ba5f3d19",
   "metadata": {},
   "outputs": [
    {
     "data": {
      "text/plain": [
       "48"
      ]
     },
     "execution_count": 27,
     "metadata": {},
     "output_type": "execute_result"
    }
   ],
   "source": [
    "seria.max() # serinin maxsimum değeri"
   ]
  },
  {
   "cell_type": "code",
   "execution_count": 28,
   "id": "53329587",
   "metadata": {},
   "outputs": [
    {
     "data": {
      "text/plain": [
       "-47"
      ]
     },
     "execution_count": 28,
     "metadata": {},
     "output_type": "execute_result"
    }
   ],
   "source": [
    "seria.min() # serinin minimum değeri"
   ]
  },
  {
   "cell_type": "code",
   "execution_count": 29,
   "id": "6605b22a",
   "metadata": {},
   "outputs": [
    {
     "data": {
      "text/plain": [
       "-17"
      ]
     },
     "execution_count": 29,
     "metadata": {},
     "output_type": "execute_result"
    }
   ],
   "source": [
    "seria.sum() # serinin toplamı"
   ]
  },
  {
   "cell_type": "code",
   "execution_count": 30,
   "id": "1758eaa5",
   "metadata": {},
   "outputs": [
    {
     "data": {
      "text/plain": [
       "-3.4"
      ]
     },
     "execution_count": 30,
     "metadata": {},
     "output_type": "execute_result"
    }
   ],
   "source": [
    "seria.mean()  # serinin ortalaması"
   ]
  },
  {
   "cell_type": "code",
   "execution_count": 31,
   "id": "0bc49218",
   "metadata": {},
   "outputs": [
    {
     "data": {
      "text/plain": [
       "2"
      ]
     },
     "execution_count": 31,
     "metadata": {},
     "output_type": "execute_result"
    }
   ],
   "source": [
    "seria.argmax()  # serinin max değerinin yeri"
   ]
  },
  {
   "cell_type": "code",
   "execution_count": 32,
   "id": "a67c3129",
   "metadata": {},
   "outputs": [
    {
     "data": {
      "text/plain": [
       "1"
      ]
     },
     "execution_count": 32,
     "metadata": {},
     "output_type": "execute_result"
    }
   ],
   "source": [
    "seria.argmin() # serinin min değerinin yeri"
   ]
  },
  {
   "cell_type": "markdown",
   "id": "b4366a47",
   "metadata": {},
   "source": [
    "# "
   ]
  },
  {
   "cell_type": "code",
   "execution_count": 49,
   "id": "c4967d41",
   "metadata": {},
   "outputs": [
    {
     "name": "stdout",
     "output_type": "stream",
     "text": [
      "Numpy Dizileri: \n",
      " [-19 -17 -12 -12   0] \n",
      "\n",
      " [-13  -6   2   6   6]\n",
      "\n",
      "Pandas Serileri: \n",
      " 0   -19\n",
      "1   -17\n",
      "2   -12\n",
      "3   -12\n",
      "4     0\n",
      "dtype: int32 \n",
      "\n",
      " 0   -13\n",
      "1    -6\n",
      "2     2\n",
      "3     6\n",
      "4     6\n",
      "dtype: int32\n"
     ]
    }
   ],
   "source": [
    "arr1 = np.random.randint(-20,20,5)\n",
    "arr2 = np.random.randint(-20,20,5)\n",
    "arr1.sort()\n",
    "arr2.sort() # diziler küçükten büyüğe sıralanıyor daha güzel gözüksün diye yaptım\n",
    "\n",
    "print(\"Numpy Dizileri: \\n\",arr1, \"\\n\\n\" , arr2)\n",
    "\n",
    "seria1 = pd.Series(arr1)\n",
    "seria2 = pd.Series(arr2)\n",
    "\n",
    "print(\"\\nPandas Serileri: \\n\",seria1, \"\\n\\n\" , seria2)\n",
    "\n",
    "\n"
   ]
  },
  {
   "cell_type": "code",
   "execution_count": 51,
   "id": "97a2fbf8",
   "metadata": {},
   "outputs": [
    {
     "name": "stdout",
     "output_type": "stream",
     "text": [
      "0   -32\n",
      "1   -23\n",
      "2   -10\n",
      "3    -6\n",
      "4     6\n",
      "dtype: int32 \n",
      "\n",
      "0    -6\n",
      "1   -11\n",
      "2   -14\n",
      "3   -18\n",
      "4    -6\n",
      "dtype: int32 \n",
      "\n",
      "0    -9\n",
      "1    -7\n",
      "2    -2\n",
      "3    -2\n",
      "4    10\n",
      "dtype: int32 \n",
      "\n",
      "0    247\n",
      "1    102\n",
      "2    -24\n",
      "3    -72\n",
      "4      0\n",
      "dtype: int32 \n",
      "\n",
      "0   -190\n",
      "1   -170\n",
      "2   -120\n",
      "3   -120\n",
      "4      0\n",
      "dtype: int32 \n",
      "\n",
      "0    1.461538\n",
      "1    2.833333\n",
      "2   -6.000000\n",
      "3   -2.000000\n",
      "4    0.000000\n",
      "dtype: float64 \n",
      "\n",
      "0   -1.9\n",
      "1   -1.7\n",
      "2   -1.2\n",
      "3   -1.2\n",
      "4    0.0\n",
      "dtype: float64 \n",
      "\n"
     ]
    }
   ],
   "source": [
    "# Pandas ile matematik işlemleri + - * /\n",
    "print(seria1 + seria2,\"\\n\")\n",
    "print(seria1 - seria2,\"\\n\")\n",
    "print(seria1 + 10,\"\\n\")\n",
    "print(seria1 * seria2,\"\\n\")\n",
    "print(seria1 * 10,\"\\n\")\n",
    "print(seria1 / seria2,\"\\n\")\n",
    "print(seria1 / 10,\"\\n\")\n"
   ]
  },
  {
   "cell_type": "code",
   "execution_count": 55,
   "id": "ebdd540e",
   "metadata": {},
   "outputs": [
    {
     "data": {
      "text/plain": [
       "0     37\n",
       "2      2\n",
       "3     22\n",
       "6     39\n",
       "11    16\n",
       "12    37\n",
       "13     8\n",
       "14    26\n",
       "15    20\n",
       "17    46\n",
       "19    34\n",
       "dtype: int32"
      ]
     },
     "execution_count": 55,
     "metadata": {},
     "output_type": "execute_result"
    }
   ],
   "source": [
    "# pandas filtreleme\n",
    "newarr = np.random.randint(-50,50,20)\n",
    "newseria = pd.Series(newarr) \n",
    "\n",
    "newseria[newseria%2 == 0] # seri içerisindeki bütün çift sayıları gösterir"
   ]
  },
  {
   "cell_type": "code",
   "execution_count": null,
   "id": "8ff88537",
   "metadata": {},
   "outputs": [],
   "source": []
  }
 ],
 "metadata": {
  "kernelspec": {
   "display_name": "Python 3 (ipykernel)",
   "language": "python",
   "name": "python3"
  },
  "language_info": {
   "codemirror_mode": {
    "name": "ipython",
    "version": 3
   },
   "file_extension": ".py",
   "mimetype": "text/x-python",
   "name": "python",
   "nbconvert_exporter": "python",
   "pygments_lexer": "ipython3",
   "version": "3.10.7"
  }
 },
 "nbformat": 4,
 "nbformat_minor": 5
}
