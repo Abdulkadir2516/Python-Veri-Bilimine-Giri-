{
 "cells": [
  {
   "cell_type": "code",
   "execution_count": 1,
   "id": "d24bab4d",
   "metadata": {},
   "outputs": [],
   "source": [
    "import numpy as np"
   ]
  },
  {
   "cell_type": "code",
   "execution_count": 2,
   "id": "04c697dd",
   "metadata": {},
   "outputs": [
    {
     "name": "stdout",
     "output_type": "stream",
     "text": [
      "[ 26  22 -15 -29  42 -33 -48 -34] \n",
      "\n",
      "[-50 -49   2 -36  49  19  49  18]\n"
     ]
    }
   ],
   "source": [
    "arr1 = np.random.randint(-50,50,8)\n",
    "arr2 = np.random.randint(-50,50,8)\n",
    "print(arr1,\"\\n\")\n",
    "print(arr2)"
   ]
  },
  {
   "cell_type": "code",
   "execution_count": 3,
   "id": "c120d206",
   "metadata": {},
   "outputs": [
    {
     "name": "stdout",
     "output_type": "stream",
     "text": [
      "[-24 -27 -13 -65  91 -14   1 -16] \n",
      "\n",
      "[ 76  71 -17   7  -7 -52 -97 -52] \n",
      "\n",
      "[ 36  32  -5 -19  52 -23 -38 -24] \n",
      "\n",
      "[-1300 -1078   -30  1044  2058  -627 -2352  -612] \n",
      "\n",
      "[ 260  220 -150 -290  420 -330 -480 -340] \n",
      "\n",
      "[-0.52       -0.44897959 -7.5         0.80555556  0.85714286 -1.73684211\n",
      " -0.97959184 -1.88888889] \n",
      "\n",
      "[ 2.6  2.2 -1.5 -2.9  4.2 -3.3 -4.8 -3.4] \n",
      "\n"
     ]
    }
   ],
   "source": [
    "print(arr1 + arr2,\"\\n\")\n",
    "print(arr1 - arr2,\"\\n\")\n",
    "print(arr1 + 10,\"\\n\")\n",
    "print(arr1 * arr2,\"\\n\")\n",
    "print(arr1 * 10,\"\\n\")\n",
    "print(arr1 / arr2,\"\\n\")\n",
    "print(arr1 / 10,\"\\n\")\n",
    "\n"
   ]
  },
  {
   "cell_type": "code",
   "execution_count": 7,
   "id": "5cd84fa8",
   "metadata": {},
   "outputs": [
    {
     "name": "stdout",
     "output_type": "stream",
     "text": [
      "[ 0.76255845 -0.00885131 -0.65028784  0.66363388 -0.91652155 -0.99991186\n",
      "  0.76825466 -0.52908269] \n",
      "\n",
      "[ 0.64691932 -0.99996083 -0.75968791 -0.74805753 -0.39998531 -0.01327675\n",
      " -0.64014434 -0.84857027] \n",
      "\n",
      "[26 22 15 29 42 33 48 34] \n",
      "\n",
      "[5.09901951 4.69041576 3.87298335 5.38516481 6.4807407  5.74456265\n",
      " 6.92820323 5.83095189] \n",
      "\n",
      "[3.25809654 3.09104245 2.7080502  3.36729583 3.73766962 3.49650756\n",
      " 3.87120101 3.52636052] \n",
      "\n"
     ]
    }
   ],
   "source": [
    "print(np.sin(arr1),\"\\n\")\n",
    "print(np.cos(arr1),\"\\n\")\n",
    "print(np.abs(arr1),\"\\n\")\n",
    "print(np.sqrt(np.abs(arr1)),\"\\n\") \n",
    "print(np.log(np.abs(arr1)),\"\\n\")\n"
   ]
  },
  {
   "cell_type": "code",
   "execution_count": 14,
   "id": "f6a66fb8",
   "metadata": {},
   "outputs": [
    {
     "name": "stdout",
     "output_type": "stream",
     "text": [
      "[ 26  22 -15 -29  42 -33 -48 -34] \n",
      "\n",
      "[-50 -49   2 -36  49  19  49  18] \n",
      "\n",
      "2 diziyi dikey olarak birleştirme işlemi \n",
      " [[ 26  22 -15 -29  42 -33 -48 -34]\n",
      " [-50 -49   2 -36  49  19  49  18]] \n",
      "\n",
      "2 diziyi yatay olarak birleştirme işlemi \n",
      " [ 26  22 -15 -29  42 -33 -48 -34 -50 -49   2 -36  49  19  49  18]\n"
     ]
    }
   ],
   "source": [
    "print(arr1,\"\\n\")\n",
    "print(arr2,\"\\n\")\n",
    "print(\"2 diziyi dikey olarak birleştirme işlemi \\n\",np.vstack((arr1,arr2)),\"\\n\")\n",
    "print(\"2 diziyi yatay olarak birleştirme işlemi \\n\",np.hstack((arr1,arr2)))"
   ]
  },
  {
   "cell_type": "code",
   "execution_count": null,
   "id": "528167c0",
   "metadata": {},
   "outputs": [],
   "source": []
  }
 ],
 "metadata": {
  "kernelspec": {
   "display_name": "Python 3 (ipykernel)",
   "language": "python",
   "name": "python3"
  },
  "language_info": {
   "codemirror_mode": {
    "name": "ipython",
    "version": 3
   },
   "file_extension": ".py",
   "mimetype": "text/x-python",
   "name": "python",
   "nbconvert_exporter": "python",
   "pygments_lexer": "ipython3",
   "version": "3.9.13"
  }
 },
 "nbformat": 4,
 "nbformat_minor": 5
}
