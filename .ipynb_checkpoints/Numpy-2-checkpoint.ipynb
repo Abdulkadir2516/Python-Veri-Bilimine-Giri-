{
 "cells": [
  {
   "cell_type": "markdown",
   "id": "361e8f47",
   "metadata": {},
   "source": [
    "# Numpy"
   ]
  },
  {
   "cell_type": "markdown",
   "id": "3a501c84",
   "metadata": {},
   "source": [
    "pip install Numpy"
   ]
  },
  {
   "cell_type": "code",
   "execution_count": null,
   "id": "e1ca8672",
   "metadata": {},
   "outputs": [],
   "source": [
    "import numpy as np"
   ]
  },
  {
   "cell_type": "code",
   "execution_count": null,
   "id": "25124b9b",
   "metadata": {},
   "outputs": [],
   "source": [
    "arr = np.array([np.random.randint(1,50,5),np.random.randint(1,50,5),np.random.randint(1,50,5),np.random.randint(1,50,5),np.random.randint(1,50,5),np.random.randint(1,50,5)])\n",
    "print(\"Dizi => \\n\",arr)\n",
    "print(\"\\nDizinin Şekli \",arr.shape)\n",
    "print(\"\\nDizinin Boyutu \",arr.ndim)"
   ]
  },
  {
   "cell_type": "code",
   "execution_count": null,
   "id": "74177c19",
   "metadata": {},
   "outputs": [],
   "source": [
    "print(\"Dizinin 1. elemanı 0. indexsi \",arr[0])\n",
    "print(\"\\nDizinin son elemanı -1. indexsi \",arr[-1])\n",
    "print(\"\\nDizinin 2 ile 5. arasındaki elemanlar \\n\",arr[1:5])\n",
    "print(\"\\nDizinin 3. elemandan sonraki elemanları \\n\",arr[3:])\n",
    "print(\"\\nDizinin 3. elemandan önceki elemanları \\n\",arr[:3])\n",
    "print(\"\\nDizinin bütün elemanları ters şekilde \\n\",arr[::-1])\n",
    "print(\"\\nDizinin bütün elemanları \\n\",arr[::])\n",
    "print(\"\\nDizinin her elemanın ilk elemanı \",arr[:,0]) # satır başları\n",
    "print(\"\\nDizinin her elemanın son elemanı \",arr[:,-1])\n"
   ]
  },
  {
   "cell_type": "code",
   "execution_count": null,
   "id": "a7e6b663",
   "metadata": {},
   "outputs": [],
   "source": [
    "arr.sum(axis=0) # arr dizisnin ilk elemanlarının toplamı"
   ]
  },
  {
   "cell_type": "code",
   "execution_count": null,
   "id": "8fa3a6e6",
   "metadata": {},
   "outputs": [],
   "source": [
    "toplamliste = [arr[:,0].sum(),arr[:,1].sum(),arr[:,2].sum(),arr[:,3].sum(),arr[:,4].sum()]\n",
    "toplamliste # arr dizisnin ilk elemanlarının toplamı"
   ]
  },
  {
   "cell_type": "code",
   "execution_count": null,
   "id": "ce77f801",
   "metadata": {},
   "outputs": [],
   "source": []
  }
 ],
 "metadata": {
  "kernelspec": {
   "display_name": "Python 3 (ipykernel)",
   "language": "python",
   "name": "python3"
  },
  "language_info": {
   "codemirror_mode": {
    "name": "ipython",
    "version": 3
   },
   "file_extension": ".py",
   "mimetype": "text/x-python",
   "name": "python",
   "nbconvert_exporter": "python",
   "pygments_lexer": "ipython3",
   "version": "3.9.13"
  }
 },
 "nbformat": 4,
 "nbformat_minor": 5
}
