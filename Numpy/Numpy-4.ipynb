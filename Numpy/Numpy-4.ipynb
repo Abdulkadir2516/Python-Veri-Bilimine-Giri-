{
 "cells": [
  {
   "cell_type": "code",
   "execution_count": 1,
   "id": "d24bab4d",
   "metadata": {},
   "outputs": [],
   "source": [
    "import numpy as np"
   ]
  },
  {
   "cell_type": "code",
   "execution_count": 2,
   "id": "04c697dd",
   "metadata": {},
   "outputs": [
    {
     "name": "stdout",
     "output_type": "stream",
     "text": [
      "[ 39 -37  39 -20   3   3  17 -30] \n",
      "\n",
      "[  2   4 -18  -6  45 -15  20 -12]\n"
     ]
    }
   ],
   "source": [
    "arr1 = np.random.randint(-50,50,8)\n",
    "arr2 = np.random.randint(-50,50,8)\n",
    "print(arr1,\"\\n\")\n",
    "print(arr2)"
   ]
  },
  {
   "cell_type": "code",
   "execution_count": 3,
   "id": "c120d206",
   "metadata": {},
   "outputs": [
    {
     "name": "stdout",
     "output_type": "stream",
     "text": [
      "[ 41 -33  21 -26  48 -12  37 -42] \n",
      "\n",
      "[ 37 -41  57 -14 -42  18  -3 -18] \n",
      "\n",
      "[ 49 -27  49 -10  13  13  27 -20] \n",
      "\n",
      "[  78 -148 -702  120  135  -45  340  360] \n",
      "\n",
      "[ 390 -370  390 -200   30   30  170 -300] \n",
      "\n",
      "[19.5        -9.25       -2.16666667  3.33333333  0.06666667 -0.2\n",
      "  0.85        2.5       ] \n",
      "\n",
      "[ 3.9 -3.7  3.9 -2.   0.3  0.3  1.7 -3. ] \n",
      "\n"
     ]
    }
   ],
   "source": [
    "# numpy ile matematik işlemleri + - * /\n",
    "print(arr1 + arr2,\"\\n\")\n",
    "print(arr1 - arr2,\"\\n\")\n",
    "print(arr1 + 10,\"\\n\")\n",
    "print(arr1 * arr2,\"\\n\")\n",
    "print(arr1 * 10,\"\\n\")\n",
    "print(arr1 / arr2,\"\\n\")\n",
    "print(arr1 / 10,\"\\n\")\n",
    "\n"
   ]
  },
  {
   "cell_type": "code",
   "execution_count": 4,
   "id": "5cd84fa8",
   "metadata": {},
   "outputs": [
    {
     "name": "stdout",
     "output_type": "stream",
     "text": [
      "[ 0.96379539  0.64353813  0.96379539 -0.91294525  0.14112001  0.14112001\n",
      " -0.96139749  0.98803162] \n",
      "\n",
      "[ 0.26664293  0.76541405  0.26664293  0.40808206 -0.9899925  -0.9899925\n",
      " -0.27516334  0.15425145] \n",
      "\n",
      "[39 37 39 20  3  3 17 30] \n",
      "\n",
      "[6.244998   6.08276253 6.244998   4.47213595 1.73205081 1.73205081\n",
      " 4.12310563 5.47722558] \n",
      "\n",
      "[3.66356165 3.61091791 3.66356165 2.99573227 1.09861229 1.09861229\n",
      " 2.83321334 3.40119738] \n",
      "\n",
      "[1521 1369 1521  400    9    9  289  900] \n",
      "\n"
     ]
    }
   ],
   "source": [
    "# numpy ile ileri matematik işlemleri (cos tan kökalma power üs alma gibi matematiksel işlemler)\n",
    "\n",
    "print(np.sin(arr1),\"\\n\")\n",
    "print(np.cos(arr1),\"\\n\")\n",
    "print(np.abs(arr1),\"\\n\")\n",
    "print(np.sqrt(np.abs(arr1)),\"\\n\") \n",
    "print(np.log(np.abs(arr1)),\"\\n\")\n",
    "print(np.power(arr1,2),\"\\n\")\n"
   ]
  },
  {
   "cell_type": "code",
   "execution_count": 5,
   "id": "f6a66fb8",
   "metadata": {},
   "outputs": [
    {
     "name": "stdout",
     "output_type": "stream",
     "text": [
      "[ 39 -37  39 -20   3   3  17 -30] \n",
      "\n",
      "[  2   4 -18  -6  45 -15  20 -12] \n",
      "\n",
      "2 diziyi yatay olarak birleştirme işlemi \n",
      " [ 39 -37  39 -20   3   3  17 -30   2   4 -18  -6  45 -15  20 -12] \n",
      "\n",
      "2 diziyi dikey olarak birleştirme işlemi \n",
      " [[ 39 -37  39 -20   3   3  17 -30]\n",
      " [  2   4 -18  -6  45 -15  20 -12]] \n",
      "\n",
      "2 diziyi yatay olarak birleştirme işlemi \n",
      " [ 39 -37  39 -20   3   3  17 -30   2   4 -18  -6  45 -15  20 -12]\n",
      "2 diziyi karşılık gelen sütunları ile birleştirme işlemi \n",
      " [[ 39   2]\n",
      " [-37   4]\n",
      " [ 39 -18]\n",
      " [-20  -6]\n",
      " [  3  45]\n",
      " [  3 -15]\n",
      " [ 17  20]\n",
      " [-30 -12]]\n"
     ]
    }
   ],
   "source": [
    "print(arr1,\"\\n\")\n",
    "print(arr2,\"\\n\")\n",
    "#print(\"2 diziyi dikey olarak birleştirme işlemi \\n\",np.concatenate((arr1, arr2),axis=1),\"\\n\")\n",
    "print(\"2 diziyi yatay olarak birleştirme işlemi \\n\",np.concatenate((arr1, arr2)),\"\\n\")\n",
    "print(\"2 diziyi dikey olarak birleştirme işlemi \\n\",np.vstack((arr1,arr2)),\"\\n\")\n",
    "print(\"2 diziyi yatay olarak birleştirme işlemi \\n\",np.hstack((arr1,arr2)))\n",
    "\n",
    "print(\"2 diziyi karşılık gelen sütunları ile birleştirme işlemi \\n\",np.stack((arr1, arr2), axis=1))\n"
   ]
  },
  {
   "cell_type": "markdown",
   "id": "a2f3fc9f",
   "metadata": {},
   "source": [
    "## "
   ]
  },
  {
   "cell_type": "code",
   "execution_count": 6,
   "id": "4d138bf0",
   "metadata": {},
   "outputs": [
    {
     "data": {
      "text/plain": [
       "array([[-12,  -2,   0,  19,  19],\n",
       "       [-15, -13,   6,  11,  14],\n",
       "       [  0,   3,   4,   9,  14]])"
      ]
     },
     "execution_count": 6,
     "metadata": {},
     "output_type": "execute_result"
    }
   ],
   "source": [
    "newarray = np.array([np.random.randint(-20,20,5),np.random.randint(-20,20,5),np.random.randint(-20,20,5)])\n",
    "newarray.sort() # diziyi sıralayı o şekilde bastırdık\n",
    "newarray"
   ]
  },
  {
   "cell_type": "code",
   "execution_count": 7,
   "id": "d4727110",
   "metadata": {},
   "outputs": [
    {
     "data": {
      "text/plain": [
       "array([[False, False, False,  True,  True],\n",
       "       [False, False,  True,  True,  True],\n",
       "       [False,  True,  True,  True,  True]])"
      ]
     },
     "execution_count": 7,
     "metadata": {},
     "output_type": "execute_result"
    }
   ],
   "source": [
    "sonuc = newarray > 0 # dizinin içerisindekilerinin 0 dan büyük olanlarını tespit etme\n",
    "sonuc"
   ]
  },
  {
   "cell_type": "code",
   "execution_count": 8,
   "id": "03c7fce9",
   "metadata": {},
   "outputs": [
    {
     "data": {
      "text/plain": [
       "array([19, 19,  6, 11, 14,  3,  4,  9, 14])"
      ]
     },
     "execution_count": 8,
     "metadata": {},
     "output_type": "execute_result"
    }
   ],
   "source": [
    "newarray[newarray > 0] # ve 0 dan büyük olan elemanlar"
   ]
  },
  {
   "cell_type": "code",
   "execution_count": 9,
   "id": "1893ad12",
   "metadata": {},
   "outputs": [
    {
     "data": {
      "text/plain": [
       "array([-12,  -2,   0,   6,  14,   0,   4,  14])"
      ]
     },
     "execution_count": 9,
     "metadata": {},
     "output_type": "execute_result"
    }
   ],
   "source": [
    "newarray[newarray % 2 == 0] # dizi içerisinde 2 ye tam bölünenler yani çift olanlar"
   ]
  },
  {
   "cell_type": "code",
   "execution_count": null,
   "id": "2e9d21a8",
   "metadata": {},
   "outputs": [],
   "source": []
  }
 ],
 "metadata": {
  "kernelspec": {
   "display_name": "Python 3 (ipykernel)",
   "language": "python",
   "name": "python3"
  },
  "language_info": {
   "codemirror_mode": {
    "name": "ipython",
    "version": 3
   },
   "file_extension": ".py",
   "mimetype": "text/x-python",
   "name": "python",
   "nbconvert_exporter": "python",
   "pygments_lexer": "ipython3",
   "version": "3.10.7"
  }
 },
 "nbformat": 4,
 "nbformat_minor": 5
}
