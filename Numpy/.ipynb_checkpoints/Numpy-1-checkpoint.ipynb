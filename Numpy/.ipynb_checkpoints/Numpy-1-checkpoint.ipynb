{
 "cells": [
  {
   "cell_type": "code",
   "execution_count": 1,
   "id": "e1ca8672",
   "metadata": {},
   "outputs": [],
   "source": [
    "import numpy as np"
   ]
  },
  {
   "cell_type": "code",
   "execution_count": 2,
   "id": "d3bad8a8",
   "metadata": {},
   "outputs": [
    {
     "name": "stdout",
     "output_type": "stream",
     "text": [
      "[ 1  2  3  4  5  6  7  8  9 10 11 12] \n",
      " [1 2 3 4 5 6 7 8 9] \n",
      " [23 51 83 91 57 80 17 57  4 87] \n",
      " [0. 0. 0. 0. 0. 0. 0. 0. 0. 0.] \n",
      " [1. 1. 1. 1. 1. 1. 1. 1. 1. 1.] \n",
      " [  0.  25.  50.  75. 100.]\n"
     ]
    }
   ],
   "source": [
    "arr = np.array([1,2,3,4,5,6,7,8,9,10,11,12])# boyut belirtmek istersek ndmin=3 şeklinde 3 boyutlu belirtebiliriz\n",
    "arr2 = np.arange(1,10) # 1 ile 10 arasında düzenli bir dizi oluşturma\n",
    "rndarr= np.random.randint(1,100,10)# 1 ile 100 arasında 10 karakterli rastgele dizi oluşturma\n",
    "arrzero = np.zeros(10)# 10 tane 0 lardan oluşan dizi\n",
    "arrone= np.ones(10) # 10 tane 1 lerden oluşan dizi\n",
    "linarr = np.linspace(0,100,5) # 0 ile 100 aralığını 5 eşit parçaya bölen dizi oluşturma \n",
    "\n",
    "print(arr,\"\\n\",arr2,\"\\n\",rndarr,\"\\n\",arrzero,\"\\n\",arrone,\"\\n\", linarr )"
   ]
  },
  {
   "cell_type": "code",
   "execution_count": 3,
   "id": "fd166362",
   "metadata": {},
   "outputs": [
    {
     "data": {
      "text/plain": [
       "1"
      ]
     },
     "execution_count": 3,
     "metadata": {},
     "output_type": "execute_result"
    }
   ],
   "source": [
    "arr.ndim # arr dizisinin boyutunu gösterir"
   ]
  },
  {
   "cell_type": "code",
   "execution_count": 4,
   "id": "3795cd6b",
   "metadata": {},
   "outputs": [
    {
     "data": {
      "text/plain": [
       "(12,)"
      ]
     },
     "execution_count": 4,
     "metadata": {},
     "output_type": "execute_result"
    }
   ],
   "source": [
    "arr.shape # arr dizisinin şeklini gösterir"
   ]
  },
  {
   "cell_type": "code",
   "execution_count": 5,
   "id": "2dfd762d",
   "metadata": {},
   "outputs": [
    {
     "data": {
      "text/plain": [
       "12"
      ]
     },
     "execution_count": 5,
     "metadata": {},
     "output_type": "execute_result"
    }
   ],
   "source": [
    "len(arr) # arr dizisinin uzunluğunu gösterir"
   ]
  },
  {
   "cell_type": "code",
   "execution_count": 6,
   "id": "528e1892",
   "metadata": {},
   "outputs": [
    {
     "data": {
      "text/plain": [
       "12"
      ]
     },
     "execution_count": 6,
     "metadata": {},
     "output_type": "execute_result"
    }
   ],
   "source": [
    "arr.size # arr toplam kaç elemanı var"
   ]
  },
  {
   "cell_type": "code",
   "execution_count": 7,
   "id": "e16a5e3a",
   "metadata": {},
   "outputs": [
    {
     "data": {
      "text/plain": [
       "12"
      ]
     },
     "execution_count": 7,
     "metadata": {},
     "output_type": "execute_result"
    }
   ],
   "source": [
    "arr.max() # dizi içerisindeki maksimum değeri alır"
   ]
  },
  {
   "cell_type": "code",
   "execution_count": 8,
   "id": "d1f31456",
   "metadata": {},
   "outputs": [
    {
     "data": {
      "text/plain": [
       "1"
      ]
     },
     "execution_count": 8,
     "metadata": {},
     "output_type": "execute_result"
    }
   ],
   "source": [
    "arr.min() # dizi içerisindeki minimum değeri alır"
   ]
  },
  {
   "cell_type": "code",
   "execution_count": 9,
   "id": "a53f7376",
   "metadata": {},
   "outputs": [
    {
     "data": {
      "text/plain": [
       "6.5"
      ]
     },
     "execution_count": 9,
     "metadata": {},
     "output_type": "execute_result"
    }
   ],
   "source": [
    "arr.mean() # dizini ortalamasını verir"
   ]
  },
  {
   "cell_type": "code",
   "execution_count": 10,
   "id": "f7f6d230",
   "metadata": {},
   "outputs": [
    {
     "data": {
      "text/plain": [
       "78"
      ]
     },
     "execution_count": 10,
     "metadata": {},
     "output_type": "execute_result"
    }
   ],
   "source": [
    "arr.sum() # dizi içerisindeki bütün değerlerin toplanımı verir"
   ]
  },
  {
   "cell_type": "code",
   "execution_count": 11,
   "id": "8935ff3e",
   "metadata": {},
   "outputs": [
    {
     "data": {
      "text/plain": [
       "11"
      ]
     },
     "execution_count": 11,
     "metadata": {},
     "output_type": "execute_result"
    }
   ],
   "source": [
    "arr.argmax() # dizi içerisindeki en büyük değerin indexini verir"
   ]
  },
  {
   "cell_type": "code",
   "execution_count": 12,
   "id": "97424082",
   "metadata": {},
   "outputs": [
    {
     "data": {
      "text/plain": [
       "0"
      ]
     },
     "execution_count": 12,
     "metadata": {},
     "output_type": "execute_result"
    }
   ],
   "source": [
    "arr.argmin() # dizi içerisindeki en küçük değerin indexini verir"
   ]
  }
 ],
 "metadata": {
  "kernelspec": {
   "display_name": "Python 3 (ipykernel)",
   "language": "python",
   "name": "python3"
  },
  "language_info": {
   "codemirror_mode": {
    "name": "ipython",
    "version": 3
   },
   "file_extension": ".py",
   "mimetype": "text/x-python",
   "name": "python",
   "nbconvert_exporter": "python",
   "pygments_lexer": "ipython3",
   "version": "3.10.7"
  }
 },
 "nbformat": 4,
 "nbformat_minor": 5
}
