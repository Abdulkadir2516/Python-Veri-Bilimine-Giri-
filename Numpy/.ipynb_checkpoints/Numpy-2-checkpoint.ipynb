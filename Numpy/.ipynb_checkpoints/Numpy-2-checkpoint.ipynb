{
 "cells": [
  {
   "cell_type": "code",
   "execution_count": 1,
   "id": "e1ca8672",
   "metadata": {},
   "outputs": [],
   "source": [
    "import numpy as np"
   ]
  },
  {
   "cell_type": "code",
   "execution_count": 2,
   "id": "25124b9b",
   "metadata": {},
   "outputs": [
    {
     "name": "stdout",
     "output_type": "stream",
     "text": [
      "Dizi => \n",
      " [[38 18 48 15  2]\n",
      " [ 8  3 40 26 24]\n",
      " [44 26  1 34 38]\n",
      " [ 7 49 48  3  8]\n",
      " [49 18  7 46 29]\n",
      " [20 15  2  8 25]]\n",
      "\n",
      "Dizinin Şekli  (6, 5)\n",
      "\n",
      "Dizinin Boyutu  2\n"
     ]
    }
   ],
   "source": [
    "arr = np.array([np.random.randint(1,50,5),np.random.randint(1,50,5),np.random.randint(1,50,5),np.random.randint(1,50,5),np.random.randint(1,50,5),np.random.randint(1,50,5)])\n",
    "print(\"Dizi => \\n\",arr)\n",
    "print(\"\\nDizinin Şekli \",arr.shape)\n",
    "print(\"\\nDizinin Boyutu \",arr.ndim)"
   ]
  },
  {
   "cell_type": "code",
   "execution_count": 3,
   "id": "74177c19",
   "metadata": {},
   "outputs": [
    {
     "name": "stdout",
     "output_type": "stream",
     "text": [
      "Dizinin 1. elemanı 0. indexsi  [38 18 48 15  2]\n",
      "Dizinin 1. elemanın 2. elemanı  18\n",
      "Dizinin 1. elemanın 2. elemanı  18\n",
      "\n",
      "Dizinin son elemanı -1. indexsi  [20 15  2  8 25]\n",
      "\n",
      "Dizinin 2 ile 5. arasındaki elemanlar \n",
      " [[ 8  3 40 26 24]\n",
      " [44 26  1 34 38]\n",
      " [ 7 49 48  3  8]\n",
      " [49 18  7 46 29]]\n",
      "\n",
      "Dizinin 3. elemandan sonraki elemanları \n",
      " [[ 7 49 48  3  8]\n",
      " [49 18  7 46 29]\n",
      " [20 15  2  8 25]]\n",
      "\n",
      "Dizinin 3. elemandan önceki elemanları \n",
      " [[38 18 48 15  2]\n",
      " [ 8  3 40 26 24]\n",
      " [44 26  1 34 38]]\n",
      "\n",
      "Dizinin bütün elemanları ters şekilde \n",
      " [[20 15  2  8 25]\n",
      " [49 18  7 46 29]\n",
      " [ 7 49 48  3  8]\n",
      " [44 26  1 34 38]\n",
      " [ 8  3 40 26 24]\n",
      " [38 18 48 15  2]]\n",
      "\n",
      "Dizinin bütün elemanları \n",
      " [[38 18 48 15  2]\n",
      " [ 8  3 40 26 24]\n",
      " [44 26  1 34 38]\n",
      " [ 7 49 48  3  8]\n",
      " [49 18  7 46 29]\n",
      " [20 15  2  8 25]]\n",
      "\n",
      "Dizinin her elemanın ilk elemanı  [38  8 44  7 49 20]\n",
      "\n",
      "Dizinin her elemanın son elemanı  [ 2 24 38  8 29 25]\n"
     ]
    }
   ],
   "source": [
    "print(\"Dizinin 1. elemanı 0. indexsi \",arr[0])\n",
    "print(\"Dizinin 1. elemanın 2. elemanı \",arr[0,1])\n",
    "print(\"Dizinin 1. elemanın 2. elemanı \",arr[0][1])\n",
    "print(\"\\nDizinin son elemanı -1. indexsi \",arr[-1])\n",
    "print(\"\\nDizinin 2 ile 5. arasındaki elemanlar \\n\",arr[1:5])\n",
    "print(\"\\nDizinin 3. elemandan sonraki elemanları \\n\",arr[3:])\n",
    "print(\"\\nDizinin 3. elemandan önceki elemanları \\n\",arr[:3])\n",
    "print(\"\\nDizinin bütün elemanları ters şekilde \\n\",arr[::-1])\n",
    "print(\"\\nDizinin bütün elemanları \\n\",arr[::])\n",
    "print(\"\\nDizinin her elemanın ilk elemanı \",arr[:,0]) # satır başları\n",
    "print(\"\\nDizinin her elemanın son elemanı \",arr[:,-1])\n"
   ]
  },
  {
   "cell_type": "code",
   "execution_count": 4,
   "id": "a1aae563",
   "metadata": {},
   "outputs": [
    {
     "data": {
      "text/plain": [
       "(array([], dtype=int64), array([], dtype=int64))"
      ]
     },
     "execution_count": 4,
     "metadata": {},
     "output_type": "execute_result"
    }
   ],
   "source": [
    "np.where(arr == 16) # dizi içerisinde 16 nerede var"
   ]
  },
  {
   "cell_type": "code",
   "execution_count": 5,
   "id": "0d55fb40",
   "metadata": {},
   "outputs": [
    {
     "name": "stdout",
     "output_type": "stream",
     "text": [
      "38\n",
      "18\n",
      "48\n",
      "15\n",
      "2\n",
      "8\n",
      "3\n",
      "40\n",
      "26\n",
      "24\n",
      "44\n",
      "26\n",
      "1\n",
      "34\n",
      "38\n",
      "7\n",
      "49\n",
      "48\n",
      "3\n",
      "8\n",
      "49\n",
      "18\n",
      "7\n",
      "46\n",
      "29\n",
      "20\n",
      "15\n",
      "2\n",
      "8\n",
      "25\n"
     ]
    }
   ],
   "source": [
    "for x in np.nditer(arr): # dizi içerisindeki tüm elemanlarda for ile gezinme\n",
    "  print(x)"
   ]
  },
  {
   "cell_type": "code",
   "execution_count": 6,
   "id": "f9c0a227",
   "metadata": {},
   "outputs": [
    {
     "name": "stdout",
     "output_type": "stream",
     "text": [
      "(0, 0) 38\n",
      "(0, 1) 18\n",
      "(0, 2) 48\n",
      "(0, 3) 15\n",
      "(0, 4) 2\n",
      "(1, 0) 8\n",
      "(1, 1) 3\n",
      "(1, 2) 40\n",
      "(1, 3) 26\n",
      "(1, 4) 24\n",
      "(2, 0) 44\n",
      "(2, 1) 26\n",
      "(2, 2) 1\n",
      "(2, 3) 34\n",
      "(2, 4) 38\n",
      "(3, 0) 7\n",
      "(3, 1) 49\n",
      "(3, 2) 48\n",
      "(3, 3) 3\n",
      "(3, 4) 8\n",
      "(4, 0) 49\n",
      "(4, 1) 18\n",
      "(4, 2) 7\n",
      "(4, 3) 46\n",
      "(4, 4) 29\n",
      "(5, 0) 20\n",
      "(5, 1) 15\n",
      "(5, 2) 2\n",
      "(5, 3) 8\n",
      "(5, 4) 25\n"
     ]
    }
   ],
   "source": [
    "for idx, x in np.ndenumerate(arr): # dizi içerisindeki tüm elemanlarda for ile gezinme konumları ile birlikte\n",
    "  print(idx, x)"
   ]
  },
  {
   "cell_type": "code",
   "execution_count": 7,
   "id": "a7e6b663",
   "metadata": {},
   "outputs": [
    {
     "data": {
      "text/plain": [
       "array([166, 129, 146, 132, 126])"
      ]
     },
     "execution_count": 7,
     "metadata": {},
     "output_type": "execute_result"
    }
   ],
   "source": [
    "arr.sum(axis=0) # arr dizisnin ilk elemanlarının toplamı"
   ]
  },
  {
   "cell_type": "code",
   "execution_count": 8,
   "id": "8fa3a6e6",
   "metadata": {},
   "outputs": [
    {
     "data": {
      "text/plain": [
       "[166, 129, 146, 132, 126]"
      ]
     },
     "execution_count": 8,
     "metadata": {},
     "output_type": "execute_result"
    }
   ],
   "source": [
    "toplamliste = [arr[:,0].sum(),arr[:,1].sum(),arr[:,2].sum(),arr[:,3].sum(),arr[:,4].sum()]\n",
    "toplamliste # arr dizisinin ilk elemanlarının toplamı"
   ]
  },
  {
   "cell_type": "code",
   "execution_count": 9,
   "id": "ce77f801",
   "metadata": {},
   "outputs": [
    {
     "name": "stdout",
     "output_type": "stream",
     "text": [
      "[ 128  255  258 6450]\n",
      "1\n",
      "int32\n"
     ]
    }
   ],
   "source": [
    "arr = np.array([128,255,258,6450])\n",
    "print(arr)\n",
    "print(arr.ndim)\n",
    "print(arr.dtype)"
   ]
  },
  {
   "cell_type": "code",
   "execution_count": 10,
   "id": "16e2a646",
   "metadata": {},
   "outputs": [
    {
     "name": "stdout",
     "output_type": "stream",
     "text": [
      "[[[ 128  255  258 6450]]]\n",
      "3\n",
      "int32\n"
     ]
    }
   ],
   "source": [
    "arr = np.array([128,255,258,6450], ndmin=3)\n",
    "print(arr)\n",
    "print(arr.ndim)\n",
    "print(arr.dtype)"
   ]
  },
  {
   "cell_type": "code",
   "execution_count": 11,
   "id": "9c547cdb",
   "metadata": {},
   "outputs": [
    {
     "name": "stdout",
     "output_type": "stream",
     "text": [
      "[[[-128   -1    2   50]]]\n",
      "3\n",
      "int8\n"
     ]
    }
   ],
   "source": [
    "arr = np.array([128,255,258,6450], ndmin=3, dtype=\"int8\") # bir array tanımlarken eğer küçük verilerle çalışacaksak boyutu yani dtype küçük tutmalıyız\n",
    "print(arr)\n",
    "print(arr.ndim)\n",
    "print(arr.dtype)"
   ]
  },
  {
   "cell_type": "code",
   "execution_count": 12,
   "id": "786da603",
   "metadata": {},
   "outputs": [
    {
     "data": {
      "text/plain": [
       "4"
      ]
     },
     "execution_count": 12,
     "metadata": {},
     "output_type": "execute_result"
    }
   ],
   "source": [
    "arr= np.array([25,36,15,2,63,3])\n",
    "arr.itemsize # arr dizisi içerisindeki verilerin kaç byte olduğunu tepit eder"
   ]
  },
  {
   "cell_type": "code",
   "execution_count": null,
   "id": "789ec4ea",
   "metadata": {},
   "outputs": [],
   "source": []
  }
 ],
 "metadata": {
  "kernelspec": {
   "display_name": "Python 3 (ipykernel)",
   "language": "python",
   "name": "python3"
  },
  "language_info": {
   "codemirror_mode": {
    "name": "ipython",
    "version": 3
   },
   "file_extension": ".py",
   "mimetype": "text/x-python",
   "name": "python",
   "nbconvert_exporter": "python",
   "pygments_lexer": "ipython3",
   "version": "3.10.7"
  }
 },
 "nbformat": 4,
 "nbformat_minor": 5
}
