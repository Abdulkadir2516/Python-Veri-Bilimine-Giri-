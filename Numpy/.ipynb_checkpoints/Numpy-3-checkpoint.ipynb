{
 "cells": [
  {
   "cell_type": "code",
   "execution_count": 1,
   "id": "e1ca8672",
   "metadata": {},
   "outputs": [],
   "source": [
    "import numpy as np"
   ]
  },
  {
   "cell_type": "code",
   "execution_count": 2,
   "id": "d3bad8a8",
   "metadata": {},
   "outputs": [
    {
     "data": {
      "text/plain": [
       "array([60, 60, 72, 97, 60, 39, 13, 67,  4, 38])"
      ]
     },
     "execution_count": 2,
     "metadata": {},
     "output_type": "execute_result"
    }
   ],
   "source": [
    "arr= np.random.randint(1,100,10)# 1 ile 100 arasında 10 karakterli rastgele dizi oluşturma\n",
    "arr"
   ]
  },
  {
   "cell_type": "code",
   "execution_count": 3,
   "id": "fd166362",
   "metadata": {},
   "outputs": [
    {
     "data": {
      "text/plain": [
       "array([ 4, 13, 38, 39, 60, 60, 60, 67, 72, 97])"
      ]
     },
     "execution_count": 3,
     "metadata": {},
     "output_type": "execute_result"
    }
   ],
   "source": [
    "arr.sort() # diziyi küçükten büyüğe doğru sıralar\n",
    "arr"
   ]
  },
  {
   "cell_type": "code",
   "execution_count": 4,
   "id": "18474635",
   "metadata": {},
   "outputs": [
    {
     "data": {
      "text/plain": [
       "array([ 4, 13, 38, 39, 24, 60, 60, 67, 72, 97])"
      ]
     },
     "execution_count": 4,
     "metadata": {},
     "output_type": "execute_result"
    }
   ],
   "source": [
    "arr2 = arr.copy() # arr dizisini arr2 ye kopyalıyor\n",
    "arr2[4] = 24 # arr2 dizisinin ilk elemanını 24 yapıyorum\n",
    "arr2"
   ]
  },
  {
   "cell_type": "code",
   "execution_count": 5,
   "id": "0bca4580",
   "metadata": {},
   "outputs": [
    {
     "data": {
      "text/plain": [
       "array([ 4, 13, 38, 39, 60, 60, 60, 67, 72, 97])"
      ]
     },
     "execution_count": 5,
     "metadata": {},
     "output_type": "execute_result"
    }
   ],
   "source": [
    "arr # arr dizisinde herhangi bir değişiklik yok"
   ]
  },
  {
   "cell_type": "code",
   "execution_count": 6,
   "id": "9e71e48d",
   "metadata": {},
   "outputs": [
    {
     "name": "stdout",
     "output_type": "stream",
     "text": [
      "None\n"
     ]
    }
   ],
   "source": [
    "print(arr2.base) # dizi copyalanmışmı yoksa görüntüsümü alınmış tespit etmek için base fonksiyonu kullanılır \n",
    "# eğer değer none ise kopyalanmış değilse görüntüsü alınmıştır"
   ]
  },
  {
   "cell_type": "code",
   "execution_count": 7,
   "id": "983c5e8e",
   "metadata": {},
   "outputs": [
    {
     "data": {
      "text/plain": [
       "array([ 4, 13, 38, 39, 25, 60, 60, 67, 72, 97])"
      ]
     },
     "execution_count": 7,
     "metadata": {},
     "output_type": "execute_result"
    }
   ],
   "source": [
    "arr2 = arr.view() # arr dizisini arr2 ye kopyalıyor\n",
    "arr2[4] = 25 # arr2 dizisinin ilk elemanını 25 yapıyorum\n",
    "arr2"
   ]
  },
  {
   "cell_type": "code",
   "execution_count": 8,
   "id": "f32f8cb3",
   "metadata": {},
   "outputs": [
    {
     "data": {
      "text/plain": [
       "array([ 4, 13, 38, 39, 25, 60, 60, 67, 72, 97])"
      ]
     },
     "execution_count": 8,
     "metadata": {},
     "output_type": "execute_result"
    }
   ],
   "source": [
    "arr # arr dizisinde arr2 de yaptığım değişiklikler arr üzerinde uygulanmış oluyor"
   ]
  },
  {
   "cell_type": "code",
   "execution_count": 9,
   "id": "49e245b6",
   "metadata": {},
   "outputs": [
    {
     "name": "stdout",
     "output_type": "stream",
     "text": [
      "[ 4 13 38 39 25 60 60 67 72 97]\n"
     ]
    }
   ],
   "source": [
    "print(arr2.base) # dizi copyalanmışmı yoksa görüntüsümü alınmış tespit etmek için base fonksiyonu kullanılır \n",
    "# eğer değer none ise kopyalanmış değilse görüntüsü alınmıştır"
   ]
  },
  {
   "cell_type": "code",
   "execution_count": 10,
   "id": "37426fd6",
   "metadata": {},
   "outputs": [
    {
     "data": {
      "text/plain": [
       "array([[[47, 19, 35, 17, 45, 15]],\n",
       "\n",
       "       [[17, 44, 15, 40, 38, 20]]])"
      ]
     },
     "execution_count": 10,
     "metadata": {},
     "output_type": "execute_result"
    }
   ],
   "source": [
    "# 3 boyutlu elemanları rastgele olan 2ye 6lık bir dizi 2 satır 6 sütun\n",
    "newarr=np.array([[np.random.randint(1,50,6)],[np.random.randint(1,50,6)]])\n",
    "newarr"
   ]
  },
  {
   "cell_type": "code",
   "execution_count": 11,
   "id": "686ed94a",
   "metadata": {},
   "outputs": [
    {
     "data": {
      "text/plain": [
       "array([[[15, 17, 19, 35, 45, 47]],\n",
       "\n",
       "       [[15, 17, 20, 38, 40, 44]]])"
      ]
     },
     "execution_count": 11,
     "metadata": {},
     "output_type": "execute_result"
    }
   ],
   "source": [
    "newarr.sort() # diziyi küçükten büyüğe doğru sıralar\n",
    "newarr"
   ]
  },
  {
   "cell_type": "code",
   "execution_count": 12,
   "id": "5e5b32f4",
   "metadata": {},
   "outputs": [
    {
     "data": {
      "text/plain": [
       "array([[30, 34, 39, 73, 85, 91]])"
      ]
     },
     "execution_count": 12,
     "metadata": {},
     "output_type": "execute_result"
    }
   ],
   "source": [
    "newarr.sum(axis=0) # çok boyutlu dizilerde satır ve sütun olayı vardır buradaki sütunların toplamını verir"
   ]
  },
  {
   "cell_type": "code",
   "execution_count": 13,
   "id": "df23d6ea",
   "metadata": {},
   "outputs": [
    {
     "name": "stdout",
     "output_type": "stream",
     "text": [
      "[[15 17 19]\n",
      " [35 45 47]\n",
      " [15 17 20]\n",
      " [38 40 44]] \n",
      "\n",
      "[103 119 130] \n",
      "\n",
      "[ 51 127  52 122] \n",
      "\n"
     ]
    }
   ],
   "source": [
    "newarr = newarr.reshape(4,3)\n",
    "print(newarr,\"\\n\")\n",
    "\n",
    "print(newarr.sum(axis=0),\"\\n\") # sütunların toplamı\n",
    "\n",
    "print(newarr.sum(axis=1),\"\\n\") # satırların toplamı"
   ]
  },
  {
   "cell_type": "code",
   "execution_count": 14,
   "id": "8aea3f4a",
   "metadata": {},
   "outputs": [
    {
     "data": {
      "text/plain": [
       "array([103, 119, 130])"
      ]
     },
     "execution_count": 14,
     "metadata": {},
     "output_type": "execute_result"
    }
   ],
   "source": [
    "newarr.sum(axis=0) # sütunların toplamı"
   ]
  },
  {
   "cell_type": "code",
   "execution_count": 15,
   "id": "26b1fcad",
   "metadata": {},
   "outputs": [
    {
     "data": {
      "text/plain": [
       "array([ 51, 127,  52, 122])"
      ]
     },
     "execution_count": 15,
     "metadata": {},
     "output_type": "execute_result"
    }
   ],
   "source": [
    "newarr.sum(axis=1) # satırların toplamı"
   ]
  }
 ],
 "metadata": {
  "kernelspec": {
   "display_name": "Python 3 (ipykernel)",
   "language": "python",
   "name": "python3"
  },
  "language_info": {
   "codemirror_mode": {
    "name": "ipython",
    "version": 3
   },
   "file_extension": ".py",
   "mimetype": "text/x-python",
   "name": "python",
   "nbconvert_exporter": "python",
   "pygments_lexer": "ipython3",
   "version": "3.10.7"
  }
 },
 "nbformat": 4,
 "nbformat_minor": 5
}
